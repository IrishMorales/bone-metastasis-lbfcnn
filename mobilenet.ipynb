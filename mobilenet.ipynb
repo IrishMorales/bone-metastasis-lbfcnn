{
 "cells": [
  {
   "cell_type": "markdown",
   "metadata": {},
   "source": [
    "# Bone Metastasis Classification using MobileNet v2\n",
    "\n",
    "### Import Libraries"
   ]
  },
  {
   "cell_type": "code",
   "execution_count": 1,
   "metadata": {
    "vscode": {
     "languageId": "plaintext"
    }
   },
   "outputs": [
    {
     "name": "stderr",
     "output_type": "stream",
     "text": [
      "C:\\Users\\Irish\\anaconda3\\envs\\conv_env\\lib\\site-packages\\torchvision\\io\\image.py:13: UserWarning: Failed to load image Python extension: [WinError 127] The specified procedure could not be found\n",
      "  warn(f\"Failed to load image Python extension: {e}\")\n"
     ]
    }
   ],
   "source": [
    "import os\n",
    "import numpy as np\n",
    "import pandas as pd\n",
    "from PIL import Image\n",
    "from io import StringIO\n",
    "from matplotlib import pyplot as plt\n",
    "import torch\n",
    "import torch.nn as nn\n",
    "import torch.nn.functional as F\n",
    "import torch.optim as optim\n",
    "from torchvision import datasets, transforms, models\n",
    "from torchvision.utils import make_grid\n",
    "from torch.utils.data import Dataset, DataLoader\n",
    "from torch.utils.data.sampler import SubsetRandomSampler\n",
    "from torchstat import stat"
   ]
  },
  {
   "cell_type": "markdown",
   "metadata": {},
   "source": [
    "### Load Data"
   ]
  },
  {
   "cell_type": "code",
   "execution_count": 2,
   "metadata": {},
   "outputs": [
    {
     "data": {
      "text/plain": [
       "<torch._C.Generator at 0x24a2cfadc70>"
      ]
     },
     "execution_count": 2,
     "metadata": {},
     "output_type": "execute_result"
    }
   ],
   "source": [
    "# Set seed for PyTorch random number generation to create reproducible results\n",
    "torch.manual_seed(5)"
   ]
  },
  {
   "cell_type": "code",
   "execution_count": 3,
   "metadata": {},
   "outputs": [],
   "source": [
    "# Data augmentation and normalization according to the MobileNet configuration\n",
    "preprocess = transforms.Compose([\n",
    "    transforms.Resize(256),\n",
    "    transforms.CenterCrop(224),\n",
    "    transforms.ToTensor(),\n",
    "    transforms.Normalize(mean=[0.485, 0.456, 0.406], std=[0.229, 0.224, 0.225]),\n",
    "])"
   ]
  },
  {
   "cell_type": "code",
   "execution_count": 4,
   "metadata": {},
   "outputs": [],
   "source": [
    "data_dir = 'dataset-sample-2/'\n",
    "batch_size = 16\n",
    "epochs = 100"
   ]
  },
  {
   "cell_type": "code",
   "execution_count": 5,
   "metadata": {},
   "outputs": [],
   "source": [
    "image_datasets = {\n",
    "    'train': \n",
    "    datasets.ImageFolder(data_dir + 'train', preprocess),\n",
    "    'test': \n",
    "    datasets.ImageFolder(data_dir + 'test', preprocess)\n",
    "}"
   ]
  },
  {
   "cell_type": "code",
   "execution_count": 6,
   "metadata": {},
   "outputs": [],
   "source": [
    "dataloaders = {\n",
    "    'train':\n",
    "    torch.utils.data.DataLoader(image_datasets['train'],\n",
    "                                batch_size=batch_size,\n",
    "                                shuffle=True,\n",
    "                                num_workers=0),\n",
    "    'test':\n",
    "    torch.utils.data.DataLoader(image_datasets['test'],\n",
    "                                batch_size=batch_size,\n",
    "                                shuffle=True,\n",
    "                                num_workers=0)\n",
    "}"
   ]
  },
  {
   "cell_type": "markdown",
   "metadata": {},
   "source": [
    "### Define Model"
   ]
  },
  {
   "cell_type": "code",
   "execution_count": 7,
   "metadata": {},
   "outputs": [
    {
     "name": "stdout",
     "output_type": "stream",
     "text": [
      "Performing torch operations on cpu device\n"
     ]
    }
   ],
   "source": [
    "# Allocate tensors to the device used for computation\n",
    "device = \"cuda\" if torch.cuda.is_available() else \"cpu\"\n",
    "print(f\"Performing torch operations on {device} device\")"
   ]
  },
  {
   "cell_type": "code",
   "execution_count": 8,
   "metadata": {},
   "outputs": [],
   "source": [
    "# Load MobileNet v2 model\n",
    "model = models.mobilenet_v2(weights=\"MobileNet_V2_Weights.IMAGENET1K_V1\").to(device)"
   ]
  },
  {
   "cell_type": "code",
   "execution_count": 9,
   "metadata": {},
   "outputs": [],
   "source": [
    "for param in model.parameters():\n",
    "    param.requires_grad = False"
   ]
  },
  {
   "cell_type": "code",
   "execution_count": 10,
   "metadata": {},
   "outputs": [],
   "source": [
    "# Change last layer to output two classes\n",
    "model.classifier[1] = nn.Linear(in_features = model.classifier[1].in_features, \n",
    "                                out_features = 2)"
   ]
  },
  {
   "cell_type": "code",
   "execution_count": 11,
   "metadata": {},
   "outputs": [],
   "source": [
    "# Define criterion (function used to compute loss) and optimizer for model\n",
    "criterion = nn.CrossEntropyLoss().to(device)\n",
    "optimizer = optim.Adam(model.parameters(), lr=0.0001)"
   ]
  },
  {
   "cell_type": "markdown",
   "metadata": {},
   "source": [
    "### Train Model"
   ]
  },
  {
   "cell_type": "code",
   "execution_count": 12,
   "metadata": {},
   "outputs": [],
   "source": [
    "train_losses = []\n",
    "test_losses = []"
   ]
  },
  {
   "cell_type": "code",
   "execution_count": 13,
   "metadata": {},
   "outputs": [],
   "source": [
    "def train_model(model, criterion, optimizer, num_epochs):\n",
    "    for epoch in range(num_epochs):\n",
    "        print('Epoch {}/{}'.format(epoch+1, num_epochs))\n",
    "        print('-' * 10)\n",
    "\n",
    "        for phase in ['train', 'test']:\n",
    "            if phase == 'train':\n",
    "                model.train()\n",
    "            else:\n",
    "                model.eval()\n",
    "\n",
    "            running_loss = 0.0\n",
    "            running_corrects = 0\n",
    "\n",
    "            for inputs, labels in dataloaders[phase]:\n",
    "                inputs = inputs.to(device)\n",
    "                labels = labels.to(device)\n",
    "\n",
    "                outputs = model(inputs)\n",
    "                loss = criterion(outputs, labels)\n",
    "\n",
    "                if phase == 'train':\n",
    "                    optimizer.zero_grad()\n",
    "                    loss.backward()\n",
    "                    optimizer.step()\n",
    "\n",
    "                _, preds = torch.max(outputs, 1)\n",
    "                running_loss += loss.item() * inputs.size(0)\n",
    "                running_corrects += torch.sum(preds == labels.data)\n",
    "\n",
    "            epoch_loss = running_loss / len(image_datasets[phase])\n",
    "            epoch_acc = running_corrects.double() / len(image_datasets[phase])\n",
    "            \n",
    "            if phase == 'train':\n",
    "                train_losses.append(epoch_loss)\n",
    "            else:\n",
    "                test_losses.append(epoch_loss)\n",
    "\n",
    "            print('{} loss: {:.4f}, acc: {:.4f}'.format(phase,\n",
    "                                                        epoch_loss,\n",
    "                                                        epoch_acc))\n",
    "    return model"
   ]
  },
  {
   "cell_type": "code",
   "execution_count": 14,
   "metadata": {},
   "outputs": [
    {
     "name": "stdout",
     "output_type": "stream",
     "text": [
      "Epoch 1/100\n",
      "----------\n",
      "train loss: 0.7860, acc: 0.5000\n",
      "test loss: 0.6825, acc: 0.6250\n",
      "Epoch 2/100\n",
      "----------\n",
      "train loss: 0.7765, acc: 0.6000\n",
      "test loss: 0.6816, acc: 0.6250\n",
      "Epoch 3/100\n",
      "----------\n",
      "train loss: 0.6919, acc: 0.5000\n",
      "test loss: 0.6798, acc: 0.6250\n",
      "Epoch 4/100\n",
      "----------\n",
      "train loss: 0.7556, acc: 0.4000\n",
      "test loss: 0.6708, acc: 0.6250\n",
      "Epoch 5/100\n",
      "----------\n",
      "train loss: 0.7223, acc: 0.6000\n",
      "test loss: 0.6568, acc: 0.6250\n",
      "Epoch 6/100\n",
      "----------\n",
      "train loss: 0.7311, acc: 0.6000\n",
      "test loss: 0.6558, acc: 0.5000\n",
      "Epoch 7/100\n",
      "----------\n",
      "train loss: 0.6489, acc: 0.6000\n",
      "test loss: 0.6522, acc: 0.6250\n",
      "Epoch 8/100\n",
      "----------\n",
      "train loss: 0.6554, acc: 0.6000\n",
      "test loss: 0.6561, acc: 0.6250\n",
      "Epoch 9/100\n",
      "----------\n",
      "train loss: 0.7444, acc: 0.4000\n",
      "test loss: 0.6651, acc: 0.6250\n",
      "Epoch 10/100\n",
      "----------\n",
      "train loss: 0.6616, acc: 0.6000\n",
      "test loss: 0.6632, acc: 0.5000\n",
      "Epoch 11/100\n",
      "----------\n",
      "train loss: 0.6804, acc: 0.7000\n",
      "test loss: 0.6596, acc: 0.6250\n",
      "Epoch 12/100\n",
      "----------\n",
      "train loss: 0.5791, acc: 0.8000\n",
      "test loss: 0.6591, acc: 0.6250\n",
      "Epoch 13/100\n",
      "----------\n",
      "train loss: 0.6267, acc: 0.7000\n",
      "test loss: 0.6559, acc: 0.5000\n",
      "Epoch 14/100\n",
      "----------\n",
      "train loss: 0.6838, acc: 0.5000\n",
      "test loss: 0.6602, acc: 0.5000\n",
      "Epoch 15/100\n",
      "----------\n",
      "train loss: 0.6267, acc: 0.7000\n",
      "test loss: 0.6584, acc: 0.3750\n",
      "Epoch 16/100\n",
      "----------\n",
      "train loss: 0.6074, acc: 0.6000\n",
      "test loss: 0.6513, acc: 0.3750\n",
      "Epoch 17/100\n",
      "----------\n",
      "train loss: 0.5722, acc: 0.7000\n",
      "test loss: 0.6463, acc: 0.3750\n",
      "Epoch 18/100\n",
      "----------\n",
      "train loss: 0.6106, acc: 0.8000\n",
      "test loss: 0.6427, acc: 0.3750\n",
      "Epoch 19/100\n",
      "----------\n",
      "train loss: 0.6556, acc: 0.6000\n",
      "test loss: 0.6388, acc: 0.3750\n",
      "Epoch 20/100\n",
      "----------\n",
      "train loss: 0.6061, acc: 0.7000\n",
      "test loss: 0.6386, acc: 0.5000\n",
      "Epoch 21/100\n",
      "----------\n",
      "train loss: 0.6243, acc: 0.8000\n",
      "test loss: 0.6392, acc: 0.5000\n",
      "Epoch 22/100\n",
      "----------\n",
      "train loss: 0.5449, acc: 0.9000\n",
      "test loss: 0.6353, acc: 0.5000\n",
      "Epoch 23/100\n",
      "----------\n",
      "train loss: 0.5875, acc: 0.7000\n",
      "test loss: 0.6305, acc: 0.5000\n",
      "Epoch 24/100\n",
      "----------\n",
      "train loss: 0.5635, acc: 0.9000\n",
      "test loss: 0.6266, acc: 0.6250\n",
      "Epoch 25/100\n",
      "----------\n",
      "train loss: 0.5185, acc: 0.8000\n",
      "test loss: 0.6261, acc: 0.6250\n",
      "Epoch 26/100\n",
      "----------\n",
      "train loss: 0.5728, acc: 0.9000\n",
      "test loss: 0.6285, acc: 0.5000\n",
      "Epoch 27/100\n",
      "----------\n",
      "train loss: 0.5255, acc: 1.0000\n",
      "test loss: 0.6304, acc: 0.6250\n",
      "Epoch 28/100\n",
      "----------\n",
      "train loss: 0.4740, acc: 0.8000\n",
      "test loss: 0.6322, acc: 0.5000\n",
      "Epoch 29/100\n",
      "----------\n",
      "train loss: 0.5180, acc: 0.8000\n",
      "test loss: 0.6387, acc: 0.5000\n",
      "Epoch 30/100\n",
      "----------\n",
      "train loss: 0.5224, acc: 0.8000\n",
      "test loss: 0.6459, acc: 0.5000\n",
      "Epoch 31/100\n",
      "----------\n",
      "train loss: 0.5533, acc: 0.8000\n",
      "test loss: 0.6546, acc: 0.5000\n",
      "Epoch 32/100\n",
      "----------\n",
      "train loss: 0.5196, acc: 0.9000\n",
      "test loss: 0.6638, acc: 0.5000\n",
      "Epoch 33/100\n",
      "----------\n",
      "train loss: 0.5681, acc: 0.8000\n",
      "test loss: 0.6669, acc: 0.5000\n",
      "Epoch 34/100\n",
      "----------\n",
      "train loss: 0.5415, acc: 0.9000\n",
      "test loss: 0.6712, acc: 0.5000\n",
      "Epoch 35/100\n",
      "----------\n",
      "train loss: 0.5302, acc: 0.9000\n",
      "test loss: 0.6710, acc: 0.5000\n",
      "Epoch 36/100\n",
      "----------\n",
      "train loss: 0.5116, acc: 1.0000\n",
      "test loss: 0.6671, acc: 0.5000\n",
      "Epoch 37/100\n",
      "----------\n",
      "train loss: 0.5209, acc: 0.9000\n",
      "test loss: 0.6715, acc: 0.5000\n",
      "Epoch 38/100\n",
      "----------\n",
      "train loss: 0.5255, acc: 0.9000\n",
      "test loss: 0.6729, acc: 0.5000\n",
      "Epoch 39/100\n",
      "----------\n",
      "train loss: 0.5052, acc: 0.8000\n",
      "test loss: 0.6807, acc: 0.5000\n",
      "Epoch 40/100\n",
      "----------\n",
      "train loss: 0.5051, acc: 0.9000\n",
      "test loss: 0.6899, acc: 0.5000\n",
      "Epoch 41/100\n",
      "----------\n",
      "train loss: 0.5570, acc: 0.8000\n",
      "test loss: 0.6918, acc: 0.5000\n",
      "Epoch 42/100\n",
      "----------\n",
      "train loss: 0.4160, acc: 0.9000\n",
      "test loss: 0.6923, acc: 0.5000\n",
      "Epoch 43/100\n",
      "----------\n",
      "train loss: 0.4720, acc: 0.9000\n",
      "test loss: 0.6945, acc: 0.5000\n",
      "Epoch 44/100\n",
      "----------\n",
      "train loss: 0.5227, acc: 0.9000\n",
      "test loss: 0.6957, acc: 0.5000\n",
      "Epoch 45/100\n",
      "----------\n",
      "train loss: 0.4979, acc: 0.9000\n",
      "test loss: 0.6966, acc: 0.5000\n",
      "Epoch 46/100\n",
      "----------\n",
      "train loss: 0.5244, acc: 0.9000\n",
      "test loss: 0.6981, acc: 0.5000\n",
      "Epoch 47/100\n",
      "----------\n",
      "train loss: 0.3954, acc: 1.0000\n",
      "test loss: 0.7000, acc: 0.5000\n",
      "Epoch 48/100\n",
      "----------\n",
      "train loss: 0.3845, acc: 1.0000\n",
      "test loss: 0.7010, acc: 0.5000\n",
      "Epoch 49/100\n",
      "----------\n",
      "train loss: 0.4612, acc: 1.0000\n",
      "test loss: 0.6999, acc: 0.5000\n",
      "Epoch 50/100\n",
      "----------\n",
      "train loss: 0.4038, acc: 1.0000\n",
      "test loss: 0.6979, acc: 0.5000\n",
      "Epoch 51/100\n",
      "----------\n",
      "train loss: 0.4631, acc: 1.0000\n",
      "test loss: 0.6976, acc: 0.5000\n",
      "Epoch 52/100\n",
      "----------\n",
      "train loss: 0.4209, acc: 1.0000\n",
      "test loss: 0.6975, acc: 0.5000\n",
      "Epoch 53/100\n",
      "----------\n",
      "train loss: 0.3820, acc: 1.0000\n",
      "test loss: 0.6985, acc: 0.5000\n",
      "Epoch 54/100\n",
      "----------\n",
      "train loss: 0.4164, acc: 1.0000\n",
      "test loss: 0.6975, acc: 0.5000\n",
      "Epoch 55/100\n",
      "----------\n",
      "train loss: 0.4138, acc: 1.0000\n",
      "test loss: 0.6973, acc: 0.5000\n",
      "Epoch 56/100\n",
      "----------\n",
      "train loss: 0.3984, acc: 1.0000\n",
      "test loss: 0.6971, acc: 0.5000\n",
      "Epoch 57/100\n",
      "----------\n",
      "train loss: 0.3922, acc: 1.0000\n",
      "test loss: 0.6958, acc: 0.5000\n",
      "Epoch 58/100\n",
      "----------\n",
      "train loss: 0.4377, acc: 1.0000\n",
      "test loss: 0.6940, acc: 0.5000\n",
      "Epoch 59/100\n",
      "----------\n",
      "train loss: 0.3807, acc: 1.0000\n",
      "test loss: 0.6936, acc: 0.5000\n",
      "Epoch 60/100\n",
      "----------\n",
      "train loss: 0.3711, acc: 1.0000\n",
      "test loss: 0.6925, acc: 0.5000\n",
      "Epoch 61/100\n",
      "----------\n",
      "train loss: 0.4108, acc: 1.0000\n",
      "test loss: 0.6929, acc: 0.5000\n",
      "Epoch 62/100\n",
      "----------\n",
      "train loss: 0.3537, acc: 1.0000\n",
      "test loss: 0.6943, acc: 0.5000\n",
      "Epoch 63/100\n",
      "----------\n",
      "train loss: 0.4187, acc: 1.0000\n",
      "test loss: 0.6957, acc: 0.5000\n",
      "Epoch 64/100\n",
      "----------\n",
      "train loss: 0.3691, acc: 1.0000\n",
      "test loss: 0.6955, acc: 0.5000\n",
      "Epoch 65/100\n",
      "----------\n",
      "train loss: 0.3835, acc: 1.0000\n",
      "test loss: 0.6951, acc: 0.6250\n",
      "Epoch 66/100\n",
      "----------\n",
      "train loss: 0.3543, acc: 1.0000\n",
      "test loss: 0.6946, acc: 0.5000\n",
      "Epoch 67/100\n",
      "----------\n",
      "train loss: 0.3116, acc: 0.9000\n",
      "test loss: 0.6948, acc: 0.5000\n",
      "Epoch 68/100\n",
      "----------\n",
      "train loss: 0.3495, acc: 1.0000\n",
      "test loss: 0.6951, acc: 0.5000\n",
      "Epoch 69/100\n",
      "----------\n",
      "train loss: 0.3598, acc: 1.0000\n",
      "test loss: 0.6944, acc: 0.5000\n",
      "Epoch 70/100\n",
      "----------\n",
      "train loss: 0.3750, acc: 1.0000\n",
      "test loss: 0.6926, acc: 0.5000\n",
      "Epoch 71/100\n",
      "----------\n",
      "train loss: 0.3165, acc: 1.0000\n",
      "test loss: 0.6911, acc: 0.5000\n",
      "Epoch 72/100\n",
      "----------\n",
      "train loss: 0.3100, acc: 1.0000\n",
      "test loss: 0.6894, acc: 0.6250\n",
      "Epoch 73/100\n",
      "----------\n",
      "train loss: 0.3544, acc: 1.0000\n",
      "test loss: 0.6883, acc: 0.6250\n",
      "Epoch 74/100\n",
      "----------\n",
      "train loss: 0.3252, acc: 1.0000\n",
      "test loss: 0.6864, acc: 0.6250\n",
      "Epoch 75/100\n",
      "----------\n",
      "train loss: 0.3634, acc: 1.0000\n",
      "test loss: 0.6857, acc: 0.6250\n",
      "Epoch 76/100\n",
      "----------\n",
      "train loss: 0.3485, acc: 1.0000\n",
      "test loss: 0.6859, acc: 0.6250\n",
      "Epoch 77/100\n",
      "----------\n",
      "train loss: 0.3518, acc: 1.0000\n",
      "test loss: 0.6847, acc: 0.6250\n",
      "Epoch 78/100\n",
      "----------\n",
      "train loss: 0.3542, acc: 1.0000\n",
      "test loss: 0.6824, acc: 0.6250\n",
      "Epoch 79/100\n",
      "----------\n",
      "train loss: 0.3345, acc: 1.0000\n",
      "test loss: 0.6785, acc: 0.6250\n",
      "Epoch 80/100\n",
      "----------\n",
      "train loss: 0.3209, acc: 1.0000\n",
      "test loss: 0.6760, acc: 0.6250\n",
      "Epoch 81/100\n",
      "----------\n",
      "train loss: 0.3145, acc: 1.0000\n",
      "test loss: 0.6726, acc: 0.6250\n",
      "Epoch 82/100\n",
      "----------\n",
      "train loss: 0.3275, acc: 1.0000\n",
      "test loss: 0.6707, acc: 0.5000\n",
      "Epoch 83/100\n",
      "----------\n",
      "train loss: 0.3201, acc: 1.0000\n",
      "test loss: 0.6695, acc: 0.5000\n",
      "Epoch 84/100\n",
      "----------\n",
      "train loss: 0.3063, acc: 1.0000\n",
      "test loss: 0.6696, acc: 0.5000\n",
      "Epoch 85/100\n",
      "----------\n",
      "train loss: 0.2964, acc: 1.0000\n",
      "test loss: 0.6696, acc: 0.5000\n",
      "Epoch 86/100\n",
      "----------\n",
      "train loss: 0.3131, acc: 1.0000\n",
      "test loss: 0.6696, acc: 0.5000\n",
      "Epoch 87/100\n",
      "----------\n",
      "train loss: 0.3194, acc: 1.0000\n",
      "test loss: 0.6698, acc: 0.5000\n",
      "Epoch 88/100\n",
      "----------\n",
      "train loss: 0.2830, acc: 1.0000\n",
      "test loss: 0.6702, acc: 0.5000\n",
      "Epoch 89/100\n",
      "----------\n",
      "train loss: 0.2912, acc: 1.0000\n",
      "test loss: 0.6709, acc: 0.5000\n",
      "Epoch 90/100\n",
      "----------\n",
      "train loss: 0.2900, acc: 1.0000\n",
      "test loss: 0.6714, acc: 0.5000\n",
      "Epoch 91/100\n",
      "----------\n",
      "train loss: 0.2721, acc: 1.0000\n",
      "test loss: 0.6720, acc: 0.5000\n",
      "Epoch 92/100\n",
      "----------\n",
      "train loss: 0.2629, acc: 1.0000\n",
      "test loss: 0.6723, acc: 0.5000\n",
      "Epoch 93/100\n",
      "----------\n",
      "train loss: 0.2810, acc: 1.0000\n",
      "test loss: 0.6735, acc: 0.5000\n",
      "Epoch 94/100\n",
      "----------\n",
      "train loss: 0.2751, acc: 1.0000\n",
      "test loss: 0.6748, acc: 0.5000\n",
      "Epoch 95/100\n",
      "----------\n"
     ]
    },
    {
     "name": "stdout",
     "output_type": "stream",
     "text": [
      "train loss: 0.3055, acc: 1.0000\n",
      "test loss: 0.6758, acc: 0.5000\n",
      "Epoch 96/100\n",
      "----------\n",
      "train loss: 0.2975, acc: 1.0000\n",
      "test loss: 0.6771, acc: 0.5000\n",
      "Epoch 97/100\n",
      "----------\n",
      "train loss: 0.3244, acc: 1.0000\n",
      "test loss: 0.6793, acc: 0.5000\n",
      "Epoch 98/100\n",
      "----------\n",
      "train loss: 0.3178, acc: 1.0000\n",
      "test loss: 0.6809, acc: 0.5000\n",
      "Epoch 99/100\n",
      "----------\n",
      "train loss: 0.2479, acc: 1.0000\n",
      "test loss: 0.6828, acc: 0.5000\n",
      "Epoch 100/100\n",
      "----------\n",
      "train loss: 0.2728, acc: 1.0000\n",
      "test loss: 0.6839, acc: 0.5000\n"
     ]
    }
   ],
   "source": [
    "model_trained = train_model(model, criterion, optimizer, num_epochs=epochs)"
   ]
  },
  {
   "cell_type": "markdown",
   "metadata": {},
   "source": [
    "### Save Model"
   ]
  },
  {
   "cell_type": "code",
   "execution_count": 15,
   "metadata": {},
   "outputs": [],
   "source": [
    "# Save weights from fine-tuning pre-trained model\n",
    "torch.save(model_trained.state_dict(), 'weights/mobilenet_weights.h5')"
   ]
  },
  {
   "cell_type": "code",
   "execution_count": 16,
   "metadata": {},
   "outputs": [
    {
     "data": {
      "text/plain": [
       "<All keys matched successfully>"
      ]
     },
     "execution_count": 16,
     "metadata": {},
     "output_type": "execute_result"
    }
   ],
   "source": [
    "# Load weights into new model that hasn't been pre-trained\n",
    "model = models.mobilenet_v2(weights=None).to(device)\n",
    "model.classifier[1] = nn.Linear(in_features = model.classifier[1].in_features, \n",
    "                                out_features = 2)\n",
    "model.load_state_dict(torch.load('weights/mobilenet_weights.h5'))"
   ]
  },
  {
   "cell_type": "markdown",
   "metadata": {},
   "source": [
    "### Evaluate Model"
   ]
  },
  {
   "cell_type": "code",
   "execution_count": 24,
   "metadata": {},
   "outputs": [
    {
     "data": {
      "image/png": "[encoded data removed]",
      "text/plain": [
       "<Figure size 640x480 with 1 Axes>"
      ]
     },
     "metadata": {},
     "output_type": "display_data"
    }
   ],
   "source": [
    "# Plot losses\n",
    "ax = plt.axes()\n",
    "plt.plot(train_losses, color='orange')\n",
    "plt.plot(test_losses, color='blue')\n",
    "plt.title('Loss Evaluation')\n",
    "plt.xlabel('Epoch')\n",
    "plt.ylabel('Magnitude')\n",
    "plt.legend(['Train Loss', 'Test Loss'])\n",
    "plt.show()"
   ]
  },
  {
   "cell_type": "code",
   "execution_count": 25,
   "metadata": {},
   "outputs": [
    {
     "name": "stdout",
     "output_type": "stream",
     "text": [
      "TP: 2, TN: 1, FP: 2, FN: 3, total: 8\n",
      "Accuracy: 0.375\n",
      "Precision: 0.5\n",
      "Sensitivity: 0.4\n",
      "Specificity: 0.3333333333333333\n",
      "F1: 0.4444444444444445\n"
     ]
    }
   ],
   "source": [
    "true_pos = 0\n",
    "true_neg = 0\n",
    "false_pos = 0\n",
    "false_neg = 0\n",
    "total = 0\n",
    "\n",
    "with torch.no_grad():\n",
    "    for batch_index, batch_data in enumerate(dataloaders['test']):\n",
    "        # Get the inputs; data is a list of [images, labels]\n",
    "        images, labels = batch_data\n",
    "\n",
    "        # Forward pass\n",
    "        predictions = model(images)\n",
    "\n",
    "        # Set total and correct\n",
    "        _, predicted = torch.max(input=predictions, dim=1) # Get list of predicted classes\n",
    "            \n",
    "        # Get how many classes there were in this batch\n",
    "        total += labels.size(0)\n",
    "            \n",
    "        # Get true positive, true negative, false positive, and false negative counts\n",
    "        for index in range(len(labels)):\n",
    "            true_pos = true_pos+1 if (predicted[index] == 1 and labels[index] == 1) else true_pos\n",
    "            true_neg = true_neg+1 if (predicted[index] == 0 and labels[index] == 0) else true_neg\n",
    "            false_pos = false_pos+1 if (predicted[index] == 1 and labels[index] == 0) else false_pos\n",
    "            false_neg = false_neg+1 if (predicted[index] == 0 and labels[index] == 1) else false_neg\n",
    "    \n",
    "print(f\"TP: {true_pos}, TN: {true_neg}, FP: {false_pos}, FN: {false_neg}, total: {total}\")\n",
    "    \n",
    "# Get performance metrics\n",
    "# accuracy: (tp + tn) / (p + n)\n",
    "accuracy = (true_pos + true_neg)/total if total != 0 else 0\n",
    "print(f\"Accuracy: {accuracy}\")\n",
    "    \n",
    "# precision tp / (tp + fp)\n",
    "precision = true_pos/(true_pos + false_pos) if (true_pos + false_pos) != 0 else 0\n",
    "print(f\"Precision: {precision}\")\n",
    "    \n",
    "# sensitivity: tp / (tp + fn)\n",
    "sensitivity = true_pos/(true_pos + false_neg) if (true_pos + false_neg) != 0 else 0\n",
    "print(f\"Sensitivity: {sensitivity}\")\n",
    "    \n",
    "# specificity: tn / (tn + fp)\n",
    "specificity = true_neg/(true_neg + false_pos) if (true_neg + false_pos) != 0 else 0\n",
    "print(f\"Specificity: {specificity}\")\n",
    "    \n",
    "# f1: 2(precision * recall)/(precision + recall)\n",
    "f1 = 2 * (precision * sensitivity)/(precision + sensitivity) if (precision + sensitivity) != 0 else 0\n",
    "print(f\"F1: {f1}\")"
   ]
  },
  {
   "cell_type": "code",
   "execution_count": 26,
   "metadata": {},
   "outputs": [
    {
     "name": "stdout",
     "output_type": "stream",
     "text": [
      "[MAdd]: Dropout is not supported!\n",
      "[Flops]: Dropout is not supported!\n",
      "[Memory]: Dropout is not supported!\n",
      "                module name   input shape  output shape     params memory(MB)             MAdd          Flops  MemRead(B)  MemWrite(B) duration[%]    MemR+W(B)\n",
      "0              features.0.0     3 646 220    32 323 110      864.0       4.34     60,258,880.0   30,697,920.0   1708896.0    4547840.0       1.59%    6256736.0\n",
      "1              features.0.1    32 323 110    32 323 110       64.0       4.34      4,547,840.0    2,273,920.0   4548096.0    4547840.0       0.81%    9095936.0\n",
      "2              features.0.2    32 323 110    32 323 110        0.0       4.34      1,136,960.0    1,136,960.0   4547840.0    4547840.0       0.81%    9095680.0\n",
      "3       features.1.conv.0.0    32 323 110    32 323 110      288.0       4.34     19,328,320.0   10,232,640.0   4548992.0    4547840.0       3.21%    9096832.0\n",
      "4       features.1.conv.0.1    32 323 110    32 323 110       64.0       4.34      4,547,840.0    2,273,920.0   4548096.0    4547840.0       0.81%    9095936.0\n",
      "5       features.1.conv.0.2    32 323 110    32 323 110        0.0       4.34      1,136,960.0    1,136,960.0   4547840.0    4547840.0       0.81%    9095680.0\n",
      "6         features.1.conv.1    32 323 110    16 323 110      512.0       2.17     35,814,240.0   18,191,360.0   4549888.0    2273920.0       1.62%    6823808.0\n",
      "7         features.1.conv.2    16 323 110    16 323 110       32.0       2.17      2,273,920.0    1,136,960.0   2274048.0    2273920.0       0.00%    4547968.0\n",
      "8       features.2.conv.0.0    16 323 110    96 323 110     1536.0      13.01    105,737,280.0   54,574,080.0   2280064.0   13643520.0       4.87%   15923584.0\n",
      "9       features.2.conv.0.1    96 323 110    96 323 110      192.0      13.01     13,643,520.0    6,821,760.0  13644288.0   13643520.0       1.62%   27287808.0\n",
      "10      features.2.conv.0.2    96 323 110    96 323 110        0.0      13.01      3,410,880.0    3,410,880.0  13643520.0   13643520.0       2.45%   27287040.0\n",
      "11      features.2.conv.1.0    96 323 110    96 162  55      864.0       3.26     14,541,120.0    7,698,240.0  13646976.0    3421440.0       4.03%   17068416.0\n",
      "12      features.2.conv.1.1    96 162  55    96 162  55      192.0       3.26      3,421,440.0    1,710,720.0   3422208.0    3421440.0       0.84%    6843648.0\n",
      "13      features.2.conv.1.2    96 162  55    96 162  55        0.0       3.26        855,360.0      855,360.0   3421440.0    3421440.0       0.81%    6842880.0\n",
      "14        features.2.conv.2    96 162  55    24 162  55     2304.0       0.82     40,843,440.0   20,528,640.0   3430656.0     855360.0       1.25%    4286016.0\n",
      "15        features.2.conv.3    24 162  55    24 162  55       48.0       0.82        855,360.0      427,680.0    855552.0     855360.0       0.00%    1710912.0\n",
      "16      features.3.conv.0.0    24 162  55   144 162  55     3456.0       4.89     60,302,880.0   30,792,960.0    869184.0    5132160.0       2.43%    6001344.0\n",
      "17      features.3.conv.0.1   144 162  55   144 162  55      288.0       4.89      5,132,160.0    2,566,080.0   5133312.0    5132160.0       0.00%   10265472.0\n",
      "18      features.3.conv.0.2   144 162  55   144 162  55        0.0       4.89      1,283,040.0    1,283,040.0   5132160.0    5132160.0       2.40%   10264320.0\n",
      "19      features.3.conv.1.0   144 162  55   144 162  55     1296.0       4.89     21,811,680.0   11,547,360.0   5137344.0    5132160.0       3.24%   10269504.0\n",
      "20      features.3.conv.1.1   144 162  55   144 162  55      288.0       4.89      5,132,160.0    2,566,080.0   5133312.0    5132160.0       0.81%   10265472.0\n",
      "21      features.3.conv.1.2   144 162  55   144 162  55        0.0       4.89      1,283,040.0    1,283,040.0   5132160.0    5132160.0       1.62%   10264320.0\n",
      "22        features.3.conv.2   144 162  55    24 162  55     3456.0       0.82     61,372,080.0   30,792,960.0   5145984.0     855360.0       1.59%    6001344.0\n",
      "23        features.3.conv.3    24 162  55    24 162  55       48.0       0.82        855,360.0      427,680.0    855552.0     855360.0       0.00%    1710912.0\n",
      "24      features.4.conv.0.0    24 162  55   144 162  55     3456.0       4.89     60,302,880.0   30,792,960.0    869184.0    5132160.0       2.46%    6001344.0\n",
      "25      features.4.conv.0.1   144 162  55   144 162  55      288.0       4.89      5,132,160.0    2,566,080.0   5133312.0    5132160.0       0.81%   10265472.0\n",
      "26      features.4.conv.0.2   144 162  55   144 162  55        0.0       4.89      1,283,040.0    1,283,040.0   5132160.0    5132160.0       1.62%   10264320.0\n",
      "27      features.4.conv.1.0   144 162  55   144  81  28     1296.0       1.25      5,552,064.0    2,939,328.0   5137344.0    1306368.0       2.40%    6443712.0\n",
      "28      features.4.conv.1.1   144  81  28   144  81  28      288.0       1.25      1,306,368.0      653,184.0   1307520.0    1306368.0       0.00%    2613888.0\n",
      "29      features.4.conv.1.2   144  81  28   144  81  28        0.0       1.25        326,592.0      326,592.0   1306368.0    1306368.0       0.00%    2612736.0\n",
      "30        features.4.conv.2   144  81  28    32  81  28     4608.0       0.28     20,829,312.0   10,450,944.0   1324800.0     290304.0       1.62%    1615104.0\n",
      "31        features.4.conv.3    32  81  28    32  81  28       64.0       0.28        290,304.0      145,152.0    290560.0     290304.0       0.00%     580864.0\n",
      "32      features.5.conv.0.0    32  81  28   192  81  28     6144.0       1.66     27,433,728.0   13,934,592.0    314880.0    1741824.0       1.62%    2056704.0\n",
      "33      features.5.conv.0.1   192  81  28   192  81  28      384.0       1.66      1,741,824.0      870,912.0   1743360.0    1741824.0       0.00%    3485184.0\n",
      "34      features.5.conv.0.2   192  81  28   192  81  28        0.0       1.66        435,456.0      435,456.0   1741824.0    1741824.0       0.77%    3483648.0\n",
      "35      features.5.conv.1.0   192  81  28   192  81  28     1728.0       1.66      7,402,752.0    3,919,104.0   1748736.0    1741824.0       1.65%    3490560.0\n",
      "36      features.5.conv.1.1   192  81  28   192  81  28      384.0       1.66      1,741,824.0      870,912.0   1743360.0    1741824.0       0.00%    3485184.0\n",
      "37      features.5.conv.1.2   192  81  28   192  81  28        0.0       1.66        435,456.0      435,456.0   1741824.0    1741824.0       0.81%    3483648.0\n",
      "38        features.5.conv.2   192  81  28    32  81  28     6144.0       0.28     27,796,608.0   13,934,592.0   1766400.0     290304.0       0.78%    2056704.0\n",
      "39        features.5.conv.3    32  81  28    32  81  28       64.0       0.28        290,304.0      145,152.0    290560.0     290304.0       0.00%     580864.0\n",
      "40      features.6.conv.0.0    32  81  28   192  81  28     6144.0       1.66     27,433,728.0   13,934,592.0    314880.0    1741824.0       0.84%    2056704.0\n",
      "41      features.6.conv.0.1   192  81  28   192  81  28      384.0       1.66      1,741,824.0      870,912.0   1743360.0    1741824.0       0.00%    3485184.0\n",
      "42      features.6.conv.0.2   192  81  28   192  81  28        0.0       1.66        435,456.0      435,456.0   1741824.0    1741824.0       0.81%    3483648.0\n",
      "43      features.6.conv.1.0   192  81  28   192  81  28     1728.0       1.66      7,402,752.0    3,919,104.0   1748736.0    1741824.0       1.65%    3490560.0\n",
      "44      features.6.conv.1.1   192  81  28   192  81  28      384.0       1.66      1,741,824.0      870,912.0   1743360.0    1741824.0       0.81%    3485184.0\n",
      "45      features.6.conv.1.2   192  81  28   192  81  28        0.0       1.66        435,456.0      435,456.0   1741824.0    1741824.0       0.81%    3483648.0\n",
      "46        features.6.conv.2   192  81  28    32  81  28     6144.0       0.28     27,796,608.0   13,934,592.0   1766400.0     290304.0       0.78%    2056704.0\n",
      "47        features.6.conv.3    32  81  28    32  81  28       64.0       0.28        290,304.0      145,152.0    290560.0     290304.0       0.00%     580864.0\n",
      "48      features.7.conv.0.0    32  81  28   192  81  28     6144.0       1.66     27,433,728.0   13,934,592.0    314880.0    1741824.0       0.78%    2056704.0\n",
      "49      features.7.conv.0.1   192  81  28   192  81  28      384.0       1.66      1,741,824.0      870,912.0   1743360.0    1741824.0       0.81%    3485184.0\n",
      "50      features.7.conv.0.2   192  81  28   192  81  28        0.0       1.66        435,456.0      435,456.0   1741824.0    1741824.0       0.00%    3483648.0\n",
      "51      features.7.conv.1.0   192  81  28   192  41  14     1728.0       0.42      1,873,536.0      991,872.0   1748736.0     440832.0       0.81%    2189568.0\n",
      "52      features.7.conv.1.1   192  41  14   192  41  14      384.0       0.42        440,832.0      220,416.0    442368.0     440832.0       0.00%     883200.0\n",
      "53      features.7.conv.1.2   192  41  14   192  41  14        0.0       0.42        110,208.0      110,208.0    440832.0     440832.0       0.00%     881664.0\n",
      "54        features.7.conv.2   192  41  14    64  41  14    12288.0       0.14     14,069,888.0    7,053,312.0    489984.0     146944.0       0.81%     636928.0\n",
      "55        features.7.conv.3    64  41  14    64  41  14      128.0       0.14        146,944.0       73,472.0    147456.0     146944.0       0.00%     294400.0\n",
      "56      features.8.conv.0.0    64  41  14   384  41  14    24576.0       0.84     27,992,832.0   14,106,624.0    245248.0     881664.0       0.81%    1126912.0\n",
      "57      features.8.conv.0.1   384  41  14   384  41  14      768.0       0.84        881,664.0      440,832.0    884736.0     881664.0       0.00%    1766400.0\n",
      "58      features.8.conv.0.2   384  41  14   384  41  14        0.0       0.84        220,416.0      220,416.0    881664.0     881664.0       0.00%    1763328.0\n",
      "59      features.8.conv.1.0   384  41  14   384  41  14     3456.0       0.84      3,747,072.0    1,983,744.0    895488.0     881664.0       0.81%    1777152.0\n",
      "60      features.8.conv.1.1   384  41  14   384  41  14      768.0       0.84        881,664.0      440,832.0    884736.0     881664.0       0.81%    1766400.0\n",
      "61      features.8.conv.1.2   384  41  14   384  41  14        0.0       0.84        220,416.0      220,416.0    881664.0     881664.0       0.00%    1763328.0\n",
      "62        features.8.conv.2   384  41  14    64  41  14    24576.0       0.14     28,176,512.0   14,106,624.0    979968.0     146944.0       0.81%    1126912.0\n",
      "63        features.8.conv.3    64  41  14    64  41  14      128.0       0.14        146,944.0       73,472.0    147456.0     146944.0       0.00%     294400.0\n",
      "64      features.9.conv.0.0    64  41  14   384  41  14    24576.0       0.84     27,992,832.0   14,106,624.0    245248.0     881664.0       0.81%    1126912.0\n",
      "65      features.9.conv.0.1   384  41  14   384  41  14      768.0       0.84        881,664.0      440,832.0    884736.0     881664.0       0.00%    1766400.0\n",
      "66      features.9.conv.0.2   384  41  14   384  41  14        0.0       0.84        220,416.0      220,416.0    881664.0     881664.0       0.81%    1763328.0\n",
      "67      features.9.conv.1.0   384  41  14   384  41  14     3456.0       0.84      3,747,072.0    1,983,744.0    895488.0     881664.0       0.00%    1777152.0\n",
      "68      features.9.conv.1.1   384  41  14   384  41  14      768.0       0.84        881,664.0      440,832.0    884736.0     881664.0       0.00%    1766400.0\n",
      "69      features.9.conv.1.2   384  41  14   384  41  14        0.0       0.84        220,416.0      220,416.0    881664.0     881664.0       0.00%    1763328.0\n",
      "70        features.9.conv.2   384  41  14    64  41  14    24576.0       0.14     28,176,512.0   14,106,624.0    979968.0     146944.0       0.81%    1126912.0\n",
      "71        features.9.conv.3    64  41  14    64  41  14      128.0       0.14        146,944.0       73,472.0    147456.0     146944.0       0.00%     294400.0\n",
      "72     features.10.conv.0.0    64  41  14   384  41  14    24576.0       0.84     27,992,832.0   14,106,624.0    245248.0     881664.0       0.81%    1126912.0\n",
      "73     features.10.conv.0.1   384  41  14   384  41  14      768.0       0.84        881,664.0      440,832.0    884736.0     881664.0       0.00%    1766400.0\n",
      "74     features.10.conv.0.2   384  41  14   384  41  14        0.0       0.84        220,416.0      220,416.0    881664.0     881664.0       0.81%    1763328.0\n",
      "75     features.10.conv.1.0   384  41  14   384  41  14     3456.0       0.84      3,747,072.0    1,983,744.0    895488.0     881664.0       0.00%    1777152.0\n",
      "76     features.10.conv.1.1   384  41  14   384  41  14      768.0       0.84        881,664.0      440,832.0    884736.0     881664.0       0.00%    1766400.0\n",
      "77     features.10.conv.1.2   384  41  14   384  41  14        0.0       0.84        220,416.0      220,416.0    881664.0     881664.0       0.00%    1763328.0\n",
      "78       features.10.conv.2   384  41  14    64  41  14    24576.0       0.14     28,176,512.0   14,106,624.0    979968.0     146944.0       0.00%    1126912.0\n",
      "79       features.10.conv.3    64  41  14    64  41  14      128.0       0.14        146,944.0       73,472.0    147456.0     146944.0       0.00%     294400.0\n",
      "80     features.11.conv.0.0    64  41  14   384  41  14    24576.0       0.84     27,992,832.0   14,106,624.0    245248.0     881664.0       0.00%    1126912.0\n",
      "81     features.11.conv.0.1   384  41  14   384  41  14      768.0       0.84        881,664.0      440,832.0    884736.0     881664.0       0.00%    1766400.0\n",
      "82     features.11.conv.0.2   384  41  14   384  41  14        0.0       0.84        220,416.0      220,416.0    881664.0     881664.0       0.81%    1763328.0\n",
      "83     features.11.conv.1.0   384  41  14   384  41  14     3456.0       0.84      3,747,072.0    1,983,744.0    895488.0     881664.0       0.00%    1777152.0\n",
      "84     features.11.conv.1.1   384  41  14   384  41  14      768.0       0.84        881,664.0      440,832.0    884736.0     881664.0       0.00%    1766400.0\n",
      "85     features.11.conv.1.2   384  41  14   384  41  14        0.0       0.84        220,416.0      220,416.0    881664.0     881664.0       0.00%    1763328.0\n",
      "86       features.11.conv.2   384  41  14    96  41  14    36864.0       0.21     42,264,768.0   21,159,936.0   1029120.0     220416.0       0.81%    1249536.0\n",
      "87       features.11.conv.3    96  41  14    96  41  14      192.0       0.21        220,416.0      110,208.0    221184.0     220416.0       0.00%     441600.0\n",
      "88     features.12.conv.0.0    96  41  14   576  41  14    55296.0       1.26     63,149,184.0   31,739,904.0    441600.0    1322496.0       1.62%    1764096.0\n",
      "89     features.12.conv.0.1   576  41  14   576  41  14     1152.0       1.26      1,322,496.0      661,248.0   1327104.0    1322496.0       0.00%    2649600.0\n",
      "90     features.12.conv.0.2   576  41  14   576  41  14        0.0       1.26        330,624.0      330,624.0   1322496.0    1322496.0       0.00%    2644992.0\n",
      "91     features.12.conv.1.0   576  41  14   576  41  14     5184.0       1.26      5,620,608.0    2,975,616.0   1343232.0    1322496.0       1.62%    2665728.0\n",
      "92     features.12.conv.1.1   576  41  14   576  41  14     1152.0       1.26      1,322,496.0      661,248.0   1327104.0    1322496.0       0.00%    2649600.0\n",
      "93     features.12.conv.1.2   576  41  14   576  41  14        0.0       1.26        330,624.0      330,624.0   1322496.0    1322496.0       0.81%    2644992.0\n",
      "94       features.12.conv.2   576  41  14    96  41  14    55296.0       0.21     63,424,704.0   31,739,904.0   1543680.0     220416.0       0.81%    1764096.0\n",
      "95       features.12.conv.3    96  41  14    96  41  14      192.0       0.21        220,416.0      110,208.0    221184.0     220416.0       0.00%     441600.0\n",
      "96     features.13.conv.0.0    96  41  14   576  41  14    55296.0       1.26     63,149,184.0   31,739,904.0    441600.0    1322496.0       0.81%    1764096.0\n",
      "97     features.13.conv.0.1   576  41  14   576  41  14     1152.0       1.26      1,322,496.0      661,248.0   1327104.0    1322496.0       0.00%    2649600.0\n",
      "98     features.13.conv.0.2   576  41  14   576  41  14        0.0       1.26        330,624.0      330,624.0   1322496.0    1322496.0       0.00%    2644992.0\n",
      "99     features.13.conv.1.0   576  41  14   576  41  14     5184.0       1.26      5,620,608.0    2,975,616.0   1343232.0    1322496.0       0.81%    2665728.0\n",
      "100    features.13.conv.1.1   576  41  14   576  41  14     1152.0       1.26      1,322,496.0      661,248.0   1327104.0    1322496.0       0.00%    2649600.0\n",
      "101    features.13.conv.1.2   576  41  14   576  41  14        0.0       1.26        330,624.0      330,624.0   1322496.0    1322496.0       0.81%    2644992.0\n",
      "102      features.13.conv.2   576  41  14    96  41  14    55296.0       0.21     63,424,704.0   31,739,904.0   1543680.0     220416.0       0.81%    1764096.0\n",
      "103      features.13.conv.3    96  41  14    96  41  14      192.0       0.21        220,416.0      110,208.0    221184.0     220416.0       0.00%     441600.0\n",
      "104    features.14.conv.0.0    96  41  14   576  41  14    55296.0       1.26     63,149,184.0   31,739,904.0    441600.0    1322496.0       0.81%    1764096.0\n",
      "105    features.14.conv.0.1   576  41  14   576  41  14     1152.0       1.26      1,322,496.0      661,248.0   1327104.0    1322496.0       0.00%    2649600.0\n",
      "106    features.14.conv.0.2   576  41  14   576  41  14        0.0       1.26        330,624.0      330,624.0   1322496.0    1322496.0       0.81%    2644992.0\n",
      "107    features.14.conv.1.0   576  41  14   576  21   7     5184.0       0.32      1,439,424.0      762,048.0   1343232.0     338688.0       0.84%    1681920.0\n",
      "108    features.14.conv.1.1   576  21   7   576  21   7     1152.0       0.32        338,688.0      169,344.0    343296.0     338688.0       0.00%     681984.0\n",
      "109    features.14.conv.1.2   576  21   7   576  21   7        0.0       0.32         84,672.0       84,672.0    338688.0     338688.0       0.00%     677376.0\n",
      "110      features.14.conv.2   576  21   7   160  21   7    92160.0       0.09     27,071,520.0   13,547,520.0    707328.0      94080.0       0.81%     801408.0\n",
      "111      features.14.conv.3   160  21   7   160  21   7      320.0       0.09         94,080.0       47,040.0     95360.0      94080.0       0.00%     189440.0\n",
      "112    features.15.conv.0.0   160  21   7   960  21   7   153600.0       0.54     45,017,280.0   22,579,200.0    708480.0     564480.0       0.82%    1272960.0\n",
      "113    features.15.conv.0.1   960  21   7   960  21   7     1920.0       0.54        564,480.0      282,240.0    572160.0     564480.0       0.00%    1136640.0\n",
      "114    features.15.conv.0.2   960  21   7   960  21   7        0.0       0.54        141,120.0      141,120.0    564480.0     564480.0       0.77%    1128960.0\n",
      "115    features.15.conv.1.0   960  21   7   960  21   7     8640.0       0.54      2,399,040.0    1,270,080.0    599040.0     564480.0       0.84%    1163520.0\n",
      "116    features.15.conv.1.1   960  21   7   960  21   7     1920.0       0.54        564,480.0      282,240.0    572160.0     564480.0       0.00%    1136640.0\n",
      "117    features.15.conv.1.2   960  21   7   960  21   7        0.0       0.54        141,120.0      141,120.0    564480.0     564480.0       0.82%    1128960.0\n",
      "118      features.15.conv.2   960  21   7   160  21   7   153600.0       0.09     45,134,880.0   22,579,200.0   1178880.0      94080.0       0.86%    1272960.0\n",
      "119      features.15.conv.3   160  21   7   160  21   7      320.0       0.09         94,080.0       47,040.0     95360.0      94080.0       0.00%     189440.0\n",
      "120    features.16.conv.0.0   160  21   7   960  21   7   153600.0       0.54     45,017,280.0   22,579,200.0    708480.0     564480.0       0.80%    1272960.0\n",
      "121    features.16.conv.0.1   960  21   7   960  21   7     1920.0       0.54        564,480.0      282,240.0    572160.0     564480.0       0.00%    1136640.0\n",
      "122    features.16.conv.0.2   960  21   7   960  21   7        0.0       0.54        141,120.0      141,120.0    564480.0     564480.0       0.00%    1128960.0\n",
      "123    features.16.conv.1.0   960  21   7   960  21   7     8640.0       0.54      2,399,040.0    1,270,080.0    599040.0     564480.0       0.00%    1163520.0\n",
      "124    features.16.conv.1.1   960  21   7   960  21   7     1920.0       0.54        564,480.0      282,240.0    572160.0     564480.0       0.00%    1136640.0\n",
      "125    features.16.conv.1.2   960  21   7   960  21   7        0.0       0.54        141,120.0      141,120.0    564480.0     564480.0       0.00%    1128960.0\n",
      "126      features.16.conv.2   960  21   7   160  21   7   153600.0       0.09     45,134,880.0   22,579,200.0   1178880.0      94080.0       0.79%    1272960.0\n",
      "127      features.16.conv.3   160  21   7   160  21   7      320.0       0.09         94,080.0       47,040.0     95360.0      94080.0       0.00%     189440.0\n",
      "128    features.17.conv.0.0   160  21   7   960  21   7   153600.0       0.54     45,017,280.0   22,579,200.0    708480.0     564480.0       1.62%    1272960.0\n",
      "129    features.17.conv.0.1   960  21   7   960  21   7     1920.0       0.54        564,480.0      282,240.0    572160.0     564480.0       0.00%    1136640.0\n",
      "130    features.17.conv.0.2   960  21   7   960  21   7        0.0       0.54        141,120.0      141,120.0    564480.0     564480.0       0.79%    1128960.0\n",
      "131    features.17.conv.1.0   960  21   7   960  21   7     8640.0       0.54      2,399,040.0    1,270,080.0    599040.0     564480.0       1.62%    1163520.0\n",
      "132    features.17.conv.1.1   960  21   7   960  21   7     1920.0       0.54        564,480.0      282,240.0    572160.0     564480.0       0.00%    1136640.0\n",
      "133    features.17.conv.1.2   960  21   7   960  21   7        0.0       0.54        141,120.0      141,120.0    564480.0     564480.0       1.62%    1128960.0\n",
      "134      features.17.conv.2   960  21   7   320  21   7   307200.0       0.18     90,269,760.0   45,158,400.0   1793280.0     188160.0       3.24%    1981440.0\n",
      "135      features.17.conv.3   320  21   7   320  21   7      640.0       0.18        188,160.0       94,080.0    190720.0     188160.0       0.00%     378880.0\n",
      "136           features.18.0   320  21   7  1280  21   7   409600.0       0.72    120,234,240.0   60,211,200.0   1826560.0     752640.0       2.43%    2579200.0\n",
      "137           features.18.1  1280  21   7  1280  21   7     2560.0       0.72        752,640.0      376,320.0    762880.0     752640.0       0.81%    1515520.0\n",
      "138           features.18.2  1280  21   7  1280  21   7        0.0       0.72        188,160.0      188,160.0    752640.0     752640.0       0.81%    1505280.0\n",
      "139            classifier.0          1280          1280        0.0       0.00              0.0            0.0         0.0          0.0       0.00%          0.0\n",
      "140            classifier.1          1280             2     2562.0       0.00          5,118.0        2,560.0     15368.0          8.0       0.00%      15376.0\n",
      "total                                                    2226434.0     213.27  1,822,440,158.0  929,581,312.0     15368.0          8.0     100.00%  457108208.0\n",
      "===============================================================================================================================================================\n",
      "Total params: 2,226,434\n",
      "---------------------------------------------------------------------------------------------------------------------------------------------------------------\n",
      "Total memory: 213.27MB\n",
      "Total MAdd: 1.82GMAdd\n",
      "Total Flops: 929.58MFlops\n",
      "Total MemR+W: 435.93MB\n",
      "\n"
     ]
    },
    {
     "name": "stderr",
     "output_type": "stream",
     "text": [
      "C:\\Users\\Irish\\anaconda3\\envs\\conv_env\\lib\\site-packages\\torchstat\\reporter.py:63: FutureWarning: The frame.append method is deprecated and will be removed from pandas in a future version. Use pandas.concat instead.\n",
      "  df = df.append(total_df)\n"
     ]
    }
   ],
   "source": [
    "# Get computational complexity\n",
    "stat(model, (3, 646, 220))"
   ]
  },
  {
   "cell_type": "markdown",
   "metadata": {},
   "source": [
    "### Show Predictions on Sample Images"
   ]
  },
  {
   "cell_type": "code",
   "execution_count": 27,
   "metadata": {},
   "outputs": [],
   "source": [
    "test_img_paths = [data_dir + \"test/0/\" + \"0000-0-A.tif\",\n",
    "                  data_dir + \"test/1/\" + \"0006-1-A.tif\",\n",
    "                  data_dir + \"test/0/\" + \"0002-0-A.tif\"]\n",
    "test_ground_truths = [\"No Metastasis\", \"Metastasis\", \"No Metastasis\"]\n",
    "img_list = [Image.open(img_path) for img_path in test_img_paths]"
   ]
  },
  {
   "cell_type": "code",
   "execution_count": 28,
   "metadata": {},
   "outputs": [],
   "source": [
    "validation_batch = torch.stack([preprocess(img).to(device) for img in img_list])"
   ]
  },
  {
   "cell_type": "code",
   "execution_count": 29,
   "metadata": {},
   "outputs": [
    {
     "name": "stdout",
     "output_type": "stream",
     "text": [
      "[MAdd]: Dropout is not supported!\n",
      "[Flops]: Dropout is not supported!\n",
      "[Memory]: Dropout is not supported!\n"
     ]
    },
    {
     "data": {
      "text/plain": [
       "tensor([[-0.2818,  0.1195],\n",
       "        [ 0.0108, -0.2691],\n",
       "        [ 0.1144, -0.6770]], grad_fn=<AddmmBackward0>)"
      ]
     },
     "execution_count": 29,
     "metadata": {},
     "output_type": "execute_result"
    }
   ],
   "source": [
    "pred_logits_tensor = model(validation_batch)\n",
    "pred_logits_tensor"
   ]
  },
  {
   "cell_type": "code",
   "execution_count": 30,
   "metadata": {},
   "outputs": [
    {
     "data": {
      "text/plain": [
       "array([[0.40100285, 0.5989972 ],\n",
       "       [0.56953436, 0.4304657 ],\n",
       "       [0.688134  , 0.31186604]], dtype=float32)"
      ]
     },
     "execution_count": 30,
     "metadata": {},
     "output_type": "execute_result"
    }
   ],
   "source": [
    "pred_probs = F.softmax(pred_logits_tensor, dim=1).cpu().data.numpy()\n",
    "pred_probs"
   ]
  },
  {
   "cell_type": "code",
   "execution_count": 31,
   "metadata": {},
   "outputs": [
    {
     "data": {
      "image/png": "[encoded data removed]",
      "text/plain": [
       "<Figure size 2000x500 with 3 Axes>"
      ]
     },
     "metadata": {},
     "output_type": "display_data"
    }
   ],
   "source": [
    "fig, axs = plt.subplots(1, len(img_list), figsize=(20, 5))\n",
    "for i, img in enumerate(img_list):\n",
    "    ax = axs[i]\n",
    "    ax.axis('off')\n",
    "    ax.set_title(\"Prediction: {:.0f}% No Metastasis, {:.0f}% Metastasis\\n Ground Truth: {}\"\n",
    "                 .format(100*pred_probs[i,0], 100*pred_probs[i,1], test_ground_truths[i]))\n",
    "    ax.imshow(img)"
   ]
  }
 ],
 "metadata": {
  "kernelspec": {
   "display_name": "Python 3 (ipykernel)",
   "language": "python",
   "name": "python3"
  },
  "language_info": {
   "codemirror_mode": {
    "name": "ipython",
    "version": 3
   },
   "file_extension": ".py",
   "mimetype": "text/x-python",
   "name": "python",
   "nbconvert_exporter": "python",
   "pygments_lexer": "ipython3",
   "version": "3.10.9"
  }
 },
 "nbformat": 4,
 "nbformat_minor": 2
}
