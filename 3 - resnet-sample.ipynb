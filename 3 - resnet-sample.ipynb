{
 "cells": [
  {
   "cell_type": "markdown",
   "metadata": {},
   "source": [
    "# Bone Metastasis Classification using ResNet"
   ]
  },
  {
   "cell_type": "markdown",
   "metadata": {},
   "source": [
    "### Import Libraries"
   ]
  },
  {
   "cell_type": "code",
   "execution_count": 1,
   "metadata": {
    "vscode": {
     "languageId": "plaintext"
    }
   },
   "outputs": [
    {
     "name": "stderr",
     "output_type": "stream",
     "text": [
      "C:\\Users\\Irish\\anaconda3\\envs\\conv_env\\lib\\site-packages\\torchvision\\io\\image.py:13: UserWarning: Failed to load image Python extension: [WinError 127] The specified procedure could not be found\n",
      "  warn(f\"Failed to load image Python extension: {e}\")\n"
     ]
    }
   ],
   "source": [
    "import os\n",
    "import numpy as np\n",
    "import pandas as pd\n",
    "from PIL import Image\n",
    "from io import StringIO\n",
    "from matplotlib import pyplot as plt\n",
    "import torch\n",
    "import torch.nn as nn\n",
    "import torch.nn.functional as F\n",
    "import torch.optim as optim\n",
    "from torchvision import datasets, transforms, models\n",
    "from torchvision.utils import make_grid\n",
    "from torch.utils.data import Dataset, DataLoader\n",
    "from torch.utils.data.sampler import SubsetRandomSampler"
   ]
  },
  {
   "cell_type": "markdown",
   "metadata": {},
   "source": [
    "### Load Data"
   ]
  },
  {
   "cell_type": "code",
   "execution_count": 2,
   "metadata": {},
   "outputs": [
    {
     "data": {
      "text/plain": [
       "<torch._C.Generator at 0x1ba18ef9c50>"
      ]
     },
     "execution_count": 2,
     "metadata": {},
     "output_type": "execute_result"
    }
   ],
   "source": [
    "# Set seed for PyTorch random number generation to create reproducible results\n",
    "torch.manual_seed(5)"
   ]
  },
  {
   "cell_type": "code",
   "execution_count": 3,
   "metadata": {},
   "outputs": [],
   "source": [
    "# Data augmentation and normalization according to the ResNet configuration\n",
    "data_transforms = {\n",
    "    'train': transforms.Compose([\n",
    "        transforms.RandomResizedCrop(224),\n",
    "        transforms.RandomHorizontalFlip(),\n",
    "        transforms.ToTensor(),\n",
    "        transforms.Normalize([0.485, 0.456, 0.406], [0.229, 0.224, 0.225])\n",
    "    ]),\n",
    "    'test': transforms.Compose([\n",
    "        transforms.Resize(256),\n",
    "        transforms.CenterCrop(224),\n",
    "        transforms.ToTensor(),\n",
    "        transforms.Normalize([0.485, 0.456, 0.406], [0.229, 0.224, 0.225])\n",
    "    ]),\n",
    "}"
   ]
  },
  {
   "cell_type": "code",
   "execution_count": 4,
   "metadata": {},
   "outputs": [],
   "source": [
    "data_dir = 'dataset-resnet/'\n",
    "batches = 10"
   ]
  },
  {
   "cell_type": "code",
   "execution_count": 5,
   "metadata": {},
   "outputs": [],
   "source": [
    "image_datasets = {\n",
    "    'train': \n",
    "    datasets.ImageFolder(data_dir + 'train', data_transforms['train']),\n",
    "    'test': \n",
    "    datasets.ImageFolder(data_dir + 'test', data_transforms['test'])\n",
    "}"
   ]
  },
  {
   "cell_type": "code",
   "execution_count": 6,
   "metadata": {},
   "outputs": [],
   "source": [
    "dataloaders = {\n",
    "    'train':\n",
    "    torch.utils.data.DataLoader(image_datasets['train'],\n",
    "                                batch_size=batches,\n",
    "                                shuffle=True,\n",
    "                                num_workers=0),\n",
    "    'test':\n",
    "    torch.utils.data.DataLoader(image_datasets['test'],\n",
    "                                batch_size=batches,\n",
    "                                shuffle=True,\n",
    "                                num_workers=0)\n",
    "}"
   ]
  },
  {
   "cell_type": "markdown",
   "metadata": {},
   "source": [
    "### Define Model"
   ]
  },
  {
   "cell_type": "code",
   "execution_count": 7,
   "metadata": {},
   "outputs": [
    {
     "name": "stdout",
     "output_type": "stream",
     "text": [
      "Performing torch operations on cpu device\n"
     ]
    }
   ],
   "source": [
    "# Allocate tensors to the device used for computation\n",
    "device = \"cuda\" if torch.cuda.is_available() else \"cpu\"\n",
    "print(f\"Performing torch operations on {device} device\")"
   ]
  },
  {
   "cell_type": "code",
   "execution_count": 8,
   "metadata": {},
   "outputs": [
    {
     "name": "stderr",
     "output_type": "stream",
     "text": [
      "C:\\Users\\Irish\\anaconda3\\envs\\conv_env\\lib\\site-packages\\torchvision\\models\\_utils.py:208: UserWarning: The parameter 'pretrained' is deprecated since 0.13 and will be removed in 0.15, please use 'weights' instead.\n",
      "  warnings.warn(\n",
      "C:\\Users\\Irish\\anaconda3\\envs\\conv_env\\lib\\site-packages\\torchvision\\models\\_utils.py:223: UserWarning: Arguments other than a weight enum or `None` for 'weights' are deprecated since 0.13 and will be removed in 0.15. The current behavior is equivalent to passing `weights=ResNet50_Weights.IMAGENET1K_V1`. You can also use `weights=ResNet50_Weights.DEFAULT` to get the most up-to-date weights.\n",
      "  warnings.warn(msg)\n"
     ]
    }
   ],
   "source": [
    "# Load ResNet50 model\n",
    "model = models.resnet50(pretrained=True).to(device)"
   ]
  },
  {
   "cell_type": "code",
   "execution_count": 9,
   "metadata": {},
   "outputs": [],
   "source": [
    "for param in model.parameters():\n",
    "    param.requires_grad = False"
   ]
  },
  {
   "cell_type": "code",
   "execution_count": 10,
   "metadata": {},
   "outputs": [],
   "source": [
    "model.fc = nn.Sequential(\n",
    "    nn.Linear(2048, 128),\n",
    "    nn.ReLU(inplace=True),\n",
    "    nn.Linear(128, 2)).to(device)"
   ]
  },
  {
   "cell_type": "code",
   "execution_count": 11,
   "metadata": {},
   "outputs": [],
   "source": [
    "# Define criterion (function used to compute loss) and optimizer for model\n",
    "criterion = nn.CrossEntropyLoss().to(device)\n",
    "optimizer = optim.Adam(model.fc.parameters(), lr=0.0001)"
   ]
  },
  {
   "cell_type": "markdown",
   "metadata": {},
   "source": [
    "### Train Model"
   ]
  },
  {
   "cell_type": "code",
   "execution_count": 12,
   "metadata": {},
   "outputs": [],
   "source": [
    "def train_model(model, criterion, optimizer, num_epochs):\n",
    "    for epoch in range(num_epochs):\n",
    "        print('Epoch {}/{}'.format(epoch+1, num_epochs))\n",
    "        print('-' * 10)\n",
    "\n",
    "        for phase in ['train', 'test']:\n",
    "            if phase == 'train':\n",
    "                model.train()\n",
    "            else:\n",
    "                model.eval()\n",
    "\n",
    "            running_loss = 0.0\n",
    "            running_corrects = 0\n",
    "\n",
    "            for inputs, labels in dataloaders[phase]:\n",
    "                inputs = inputs.to(device)\n",
    "                labels = labels.to(device)\n",
    "\n",
    "                outputs = model(inputs)\n",
    "                loss = criterion(outputs, labels)\n",
    "\n",
    "                if phase == 'train':\n",
    "                    optimizer.zero_grad()\n",
    "                    loss.backward()\n",
    "                    optimizer.step()\n",
    "\n",
    "                _, preds = torch.max(outputs, 1)\n",
    "                running_loss += loss.item() * inputs.size(0)\n",
    "                running_corrects += torch.sum(preds == labels.data)\n",
    "\n",
    "            epoch_loss = running_loss / len(image_datasets[phase])\n",
    "            epoch_acc = running_corrects.double() / len(image_datasets[phase])\n",
    "\n",
    "            print('{} loss: {:.4f}, acc: {:.4f}'.format(phase,\n",
    "                                                        epoch_loss,\n",
    "                                                        epoch_acc))\n",
    "    return model"
   ]
  },
  {
   "cell_type": "code",
   "execution_count": 13,
   "metadata": {},
   "outputs": [
    {
     "name": "stdout",
     "output_type": "stream",
     "text": [
      "Epoch 1/90\n",
      "----------\n",
      "train loss: 0.6391, acc: 0.6544\n",
      "test loss: 0.6256, acc: 0.6898\n",
      "Epoch 2/90\n",
      "----------\n",
      "train loss: 0.5982, acc: 0.6871\n",
      "test loss: 0.6064, acc: 0.7673\n",
      "Epoch 3/90\n",
      "----------\n",
      "train loss: 0.5932, acc: 0.6809\n",
      "test loss: 0.6067, acc: 0.7143\n",
      "Epoch 4/90\n",
      "----------\n",
      "train loss: 0.5736, acc: 0.6993\n",
      "test loss: 0.7156, acc: 0.4980\n",
      "Epoch 5/90\n",
      "----------\n",
      "train loss: 0.5609, acc: 0.7125\n",
      "test loss: 0.6499, acc: 0.6082\n",
      "Epoch 6/90\n",
      "----------\n",
      "train loss: 0.5622, acc: 0.7217\n",
      "test loss: 0.5400, acc: 0.7469\n",
      "Epoch 7/90\n",
      "----------\n",
      "train loss: 0.5458, acc: 0.7390\n",
      "test loss: 0.5767, acc: 0.7020\n",
      "Epoch 8/90\n",
      "----------\n",
      "train loss: 0.5539, acc: 0.7268\n",
      "test loss: 0.5416, acc: 0.7184\n",
      "Epoch 9/90\n",
      "----------\n",
      "train loss: 0.5478, acc: 0.7482\n",
      "test loss: 0.5657, acc: 0.6898\n",
      "Epoch 10/90\n",
      "----------\n",
      "train loss: 0.5444, acc: 0.7329\n",
      "test loss: 0.5748, acc: 0.7143\n",
      "Epoch 11/90\n",
      "----------\n",
      "train loss: 0.5261, acc: 0.7554\n",
      "test loss: 0.5521, acc: 0.7224\n",
      "Epoch 12/90\n",
      "----------\n",
      "train loss: 0.5509, acc: 0.7299\n",
      "test loss: 0.6745, acc: 0.5918\n",
      "Epoch 13/90\n",
      "----------\n",
      "train loss: 0.5401, acc: 0.7523\n",
      "test loss: 0.6176, acc: 0.6490\n",
      "Epoch 14/90\n",
      "----------\n",
      "train loss: 0.5295, acc: 0.7533\n",
      "test loss: 0.5479, acc: 0.7061\n",
      "Epoch 15/90\n",
      "----------\n",
      "train loss: 0.5306, acc: 0.7370\n",
      "test loss: 0.6058, acc: 0.6449\n",
      "Epoch 16/90\n",
      "----------\n",
      "train loss: 0.5372, acc: 0.7411\n",
      "test loss: 0.6271, acc: 0.6367\n",
      "Epoch 17/90\n",
      "----------\n",
      "train loss: 0.5190, acc: 0.7462\n",
      "test loss: 0.5146, acc: 0.7551\n",
      "Epoch 18/90\n",
      "----------\n",
      "train loss: 0.5299, acc: 0.7574\n",
      "test loss: 0.6857, acc: 0.6000\n",
      "Epoch 19/90\n",
      "----------\n",
      "train loss: 0.5194, acc: 0.7462\n",
      "test loss: 0.6197, acc: 0.6694\n",
      "Epoch 20/90\n",
      "----------\n",
      "train loss: 0.5320, acc: 0.7370\n",
      "test loss: 0.5098, acc: 0.7673\n",
      "Epoch 21/90\n",
      "----------\n",
      "train loss: 0.5462, acc: 0.7452\n",
      "test loss: 0.5223, acc: 0.7469\n",
      "Epoch 22/90\n",
      "----------\n",
      "train loss: 0.5324, acc: 0.7594\n",
      "test loss: 0.5363, acc: 0.7633\n",
      "Epoch 23/90\n",
      "----------\n",
      "train loss: 0.5230, acc: 0.7574\n",
      "test loss: 0.5236, acc: 0.7510\n",
      "Epoch 24/90\n",
      "----------\n",
      "train loss: 0.5324, acc: 0.7503\n",
      "test loss: 0.5765, acc: 0.6939\n",
      "Epoch 25/90\n",
      "----------\n",
      "train loss: 0.5119, acc: 0.7635\n",
      "test loss: 0.5654, acc: 0.7184\n",
      "Epoch 26/90\n",
      "----------\n",
      "train loss: 0.5094, acc: 0.7696\n",
      "test loss: 0.5205, acc: 0.7265\n",
      "Epoch 27/90\n",
      "----------\n",
      "train loss: 0.5380, acc: 0.7370\n",
      "test loss: 0.4923, acc: 0.7755\n",
      "Epoch 28/90\n",
      "----------\n",
      "train loss: 0.5067, acc: 0.7554\n",
      "test loss: 0.5148, acc: 0.7469\n",
      "Epoch 29/90\n",
      "----------\n",
      "train loss: 0.5329, acc: 0.7472\n",
      "test loss: 0.6002, acc: 0.6612\n",
      "Epoch 30/90\n",
      "----------\n",
      "train loss: 0.5258, acc: 0.7584\n",
      "test loss: 0.5220, acc: 0.7510\n",
      "Epoch 31/90\n",
      "----------\n",
      "train loss: 0.5323, acc: 0.7421\n",
      "test loss: 0.5213, acc: 0.7592\n",
      "Epoch 32/90\n",
      "----------\n",
      "train loss: 0.5052, acc: 0.7615\n",
      "test loss: 0.5040, acc: 0.7673\n",
      "Epoch 33/90\n",
      "----------\n",
      "train loss: 0.5246, acc: 0.7472\n",
      "test loss: 0.6133, acc: 0.6449\n",
      "Epoch 34/90\n",
      "----------\n",
      "train loss: 0.5093, acc: 0.7604\n",
      "test loss: 0.5295, acc: 0.7551\n",
      "Epoch 35/90\n",
      "----------\n",
      "train loss: 0.5256, acc: 0.7319\n",
      "test loss: 0.5463, acc: 0.7224\n",
      "Epoch 36/90\n",
      "----------\n",
      "train loss: 0.5180, acc: 0.7513\n",
      "test loss: 0.5277, acc: 0.7510\n",
      "Epoch 37/90\n",
      "----------\n",
      "train loss: 0.5245, acc: 0.7452\n",
      "test loss: 0.5507, acc: 0.7184\n",
      "Epoch 38/90\n",
      "----------\n",
      "train loss: 0.5242, acc: 0.7431\n",
      "test loss: 0.6023, acc: 0.6612\n",
      "Epoch 39/90\n",
      "----------\n",
      "train loss: 0.5167, acc: 0.7472\n",
      "test loss: 0.5884, acc: 0.6980\n",
      "Epoch 40/90\n",
      "----------\n",
      "train loss: 0.5096, acc: 0.7533\n",
      "test loss: 0.5008, acc: 0.7714\n",
      "Epoch 41/90\n",
      "----------\n",
      "train loss: 0.5318, acc: 0.7482\n",
      "test loss: 0.5062, acc: 0.7551\n",
      "Epoch 42/90\n",
      "----------\n",
      "train loss: 0.5149, acc: 0.7441\n",
      "test loss: 0.5427, acc: 0.7224\n",
      "Epoch 43/90\n",
      "----------\n",
      "train loss: 0.5121, acc: 0.7492\n",
      "test loss: 0.5679, acc: 0.6816\n",
      "Epoch 44/90\n",
      "----------\n",
      "train loss: 0.4872, acc: 0.7768\n",
      "test loss: 0.5958, acc: 0.6898\n",
      "Epoch 45/90\n",
      "----------\n",
      "train loss: 0.5146, acc: 0.7554\n",
      "test loss: 0.5554, acc: 0.6980\n",
      "Epoch 46/90\n",
      "----------\n",
      "train loss: 0.5144, acc: 0.7655\n",
      "test loss: 0.6314, acc: 0.6367\n",
      "Epoch 47/90\n",
      "----------\n",
      "train loss: 0.4899, acc: 0.7788\n",
      "test loss: 0.7327, acc: 0.5755\n",
      "Epoch 48/90\n",
      "----------\n",
      "train loss: 0.5163, acc: 0.7615\n",
      "test loss: 0.5061, acc: 0.7510\n",
      "Epoch 49/90\n",
      "----------\n",
      "train loss: 0.4892, acc: 0.7645\n",
      "test loss: 0.5729, acc: 0.6939\n",
      "Epoch 50/90\n",
      "----------\n",
      "train loss: 0.5314, acc: 0.7564\n",
      "test loss: 0.5131, acc: 0.7388\n",
      "Epoch 51/90\n",
      "----------\n",
      "train loss: 0.5069, acc: 0.7655\n",
      "test loss: 0.5130, acc: 0.7592\n",
      "Epoch 52/90\n",
      "----------\n",
      "train loss: 0.5043, acc: 0.7533\n",
      "test loss: 0.5912, acc: 0.6571\n",
      "Epoch 53/90\n",
      "----------\n",
      "train loss: 0.5111, acc: 0.7462\n",
      "test loss: 0.6211, acc: 0.6776\n",
      "Epoch 54/90\n",
      "----------\n",
      "train loss: 0.5132, acc: 0.7482\n",
      "test loss: 0.5451, acc: 0.7184\n",
      "Epoch 55/90\n",
      "----------\n",
      "train loss: 0.4965, acc: 0.7635\n",
      "test loss: 0.6265, acc: 0.6735\n",
      "Epoch 56/90\n",
      "----------\n",
      "train loss: 0.5118, acc: 0.7492\n",
      "test loss: 0.5575, acc: 0.7020\n",
      "Epoch 57/90\n",
      "----------\n",
      "train loss: 0.5008, acc: 0.7696\n",
      "test loss: 0.5638, acc: 0.7143\n",
      "Epoch 58/90\n",
      "----------\n",
      "train loss: 0.4956, acc: 0.7706\n",
      "test loss: 0.5467, acc: 0.7102\n",
      "Epoch 59/90\n",
      "----------\n",
      "train loss: 0.5114, acc: 0.7482\n",
      "test loss: 0.5658, acc: 0.6776\n",
      "Epoch 60/90\n",
      "----------\n",
      "train loss: 0.4999, acc: 0.7584\n",
      "test loss: 0.5722, acc: 0.7020\n",
      "Epoch 61/90\n",
      "----------\n",
      "train loss: 0.5017, acc: 0.7696\n",
      "test loss: 0.5822, acc: 0.7020\n",
      "Epoch 62/90\n",
      "----------\n",
      "train loss: 0.5109, acc: 0.7554\n",
      "test loss: 0.5460, acc: 0.7184\n",
      "Epoch 63/90\n",
      "----------\n",
      "train loss: 0.4857, acc: 0.7798\n",
      "test loss: 0.6973, acc: 0.5959\n",
      "Epoch 64/90\n",
      "----------\n",
      "train loss: 0.5091, acc: 0.7604\n",
      "test loss: 0.5006, acc: 0.7551\n",
      "Epoch 65/90\n",
      "----------\n",
      "train loss: 0.5251, acc: 0.7503\n",
      "test loss: 0.5607, acc: 0.7265\n",
      "Epoch 66/90\n",
      "----------\n",
      "train loss: 0.5050, acc: 0.7594\n",
      "test loss: 0.5870, acc: 0.6816\n",
      "Epoch 67/90\n",
      "----------\n",
      "train loss: 0.4927, acc: 0.7645\n",
      "test loss: 0.5370, acc: 0.7265\n",
      "Epoch 68/90\n",
      "----------\n",
      "train loss: 0.5009, acc: 0.7666\n",
      "test loss: 0.5913, acc: 0.6980\n",
      "Epoch 69/90\n",
      "----------\n",
      "train loss: 0.5025, acc: 0.7788\n",
      "test loss: 0.5777, acc: 0.7061\n",
      "Epoch 70/90\n",
      "----------\n",
      "train loss: 0.5121, acc: 0.7441\n",
      "test loss: 0.4992, acc: 0.7673\n",
      "Epoch 71/90\n",
      "----------\n",
      "train loss: 0.5111, acc: 0.7452\n",
      "test loss: 0.6705, acc: 0.5918\n",
      "Epoch 72/90\n",
      "----------\n",
      "train loss: 0.4859, acc: 0.7788\n",
      "test loss: 0.6105, acc: 0.6816\n",
      "Epoch 73/90\n",
      "----------\n",
      "train loss: 0.4766, acc: 0.7676\n",
      "test loss: 0.5824, acc: 0.6816\n",
      "Epoch 74/90\n",
      "----------\n",
      "train loss: 0.5029, acc: 0.7615\n",
      "test loss: 0.6336, acc: 0.6449\n",
      "Epoch 75/90\n",
      "----------\n",
      "train loss: 0.4976, acc: 0.7594\n",
      "test loss: 0.6619, acc: 0.5918\n",
      "Epoch 76/90\n",
      "----------\n",
      "train loss: 0.4786, acc: 0.7808\n",
      "test loss: 0.5557, acc: 0.7143\n",
      "Epoch 77/90\n",
      "----------\n",
      "train loss: 0.5001, acc: 0.7666\n",
      "test loss: 0.5076, acc: 0.7551\n",
      "Epoch 78/90\n",
      "----------\n",
      "train loss: 0.5335, acc: 0.7299\n",
      "test loss: 0.5838, acc: 0.6735\n",
      "Epoch 79/90\n",
      "----------\n",
      "train loss: 0.4976, acc: 0.7666\n",
      "test loss: 0.5220, acc: 0.7306\n",
      "Epoch 80/90\n",
      "----------\n",
      "train loss: 0.4778, acc: 0.7686\n",
      "test loss: 0.6693, acc: 0.6286\n",
      "Epoch 81/90\n",
      "----------\n",
      "train loss: 0.5037, acc: 0.7686\n",
      "test loss: 0.5955, acc: 0.6571\n",
      "Epoch 82/90\n",
      "----------\n",
      "train loss: 0.4790, acc: 0.7655\n",
      "test loss: 0.5078, acc: 0.7429\n",
      "Epoch 83/90\n",
      "----------\n",
      "train loss: 0.4868, acc: 0.7717\n",
      "test loss: 0.4970, acc: 0.7592\n",
      "Epoch 84/90\n",
      "----------\n",
      "train loss: 0.5115, acc: 0.7533\n",
      "test loss: 0.5444, acc: 0.7551\n",
      "Epoch 85/90\n",
      "----------\n",
      "train loss: 0.4957, acc: 0.7696\n",
      "test loss: 0.5755, acc: 0.7102\n",
      "Epoch 86/90\n",
      "----------\n",
      "train loss: 0.4891, acc: 0.7900\n",
      "test loss: 0.5416, acc: 0.7020\n",
      "Epoch 87/90\n",
      "----------\n",
      "train loss: 0.4825, acc: 0.7747\n",
      "test loss: 0.6118, acc: 0.6571\n",
      "Epoch 88/90\n",
      "----------\n",
      "train loss: 0.4994, acc: 0.7604\n",
      "test loss: 0.6428, acc: 0.6449\n",
      "Epoch 89/90\n",
      "----------\n",
      "train loss: 0.4787, acc: 0.7819\n",
      "test loss: 0.7570, acc: 0.5918\n",
      "Epoch 90/90\n",
      "----------\n",
      "train loss: 0.4933, acc: 0.7706\n",
      "test loss: 0.5414, acc: 0.7347\n"
     ]
    }
   ],
   "source": [
    "model_trained = train_model(model, criterion, optimizer, num_epochs=90)"
   ]
  },
  {
   "cell_type": "markdown",
   "metadata": {},
   "source": [
    "### Save Model"
   ]
  },
  {
   "cell_type": "code",
   "execution_count": 40,
   "metadata": {},
   "outputs": [],
   "source": [
    "torch.save(model_trained.state_dict(), 'weights/resnet_weights.h5')"
   ]
  },
  {
   "cell_type": "code",
   "execution_count": 41,
   "metadata": {},
   "outputs": [
    {
     "data": {
      "text/plain": [
       "<All keys matched successfully>"
      ]
     },
     "execution_count": 41,
     "metadata": {},
     "output_type": "execute_result"
    }
   ],
   "source": [
    "model = models.resnet50(pretrained=False).to(device)\n",
    "model.fc = nn.Sequential(\n",
    "               nn.Linear(2048, 128),\n",
    "               nn.ReLU(inplace=True),\n",
    "               nn.Linear(128, 2)).to(device)\n",
    "model.load_state_dict(torch.load('weights/resnet_weights.h5'))"
   ]
  },
  {
   "cell_type": "markdown",
   "metadata": {},
   "source": [
    "### Show Predictions on Sample Images"
   ]
  },
  {
   "cell_type": "code",
   "execution_count": 35,
   "metadata": {},
   "outputs": [],
   "source": [
    "test_img_paths = [data_dir + \"test/0/\" + \"0000-0-A.tif\",\n",
    "                  data_dir + \"test/1/\" + \"0004-1-A.tif\",\n",
    "                  data_dir + \"test/0/\" + \"0010-0-A.tif\"]\n",
    "test_ground_truths = [\"No Metastasis\", \"Metastasis\", \"No Metastasis\"]\n",
    "img_list = [Image.open(img_path) for img_path in test_img_paths]"
   ]
  },
  {
   "cell_type": "code",
   "execution_count": 36,
   "metadata": {},
   "outputs": [],
   "source": [
    "validation_batch = torch.stack([data_transforms['test'](img).to(device) for img in img_list])"
   ]
  },
  {
   "cell_type": "code",
   "execution_count": 37,
   "metadata": {},
   "outputs": [
    {
     "data": {
      "text/plain": [
       "tensor([[ 1.6728, -0.9942],\n",
       "        [-0.7756,  0.8839],\n",
       "        [ 0.6249, -0.0807]], grad_fn=<AddmmBackward0>)"
      ]
     },
     "execution_count": 37,
     "metadata": {},
     "output_type": "execute_result"
    }
   ],
   "source": [
    "pred_logits_tensor = model(validation_batch)\n",
    "pred_logits_tensor"
   ]
  },
  {
   "cell_type": "code",
   "execution_count": 38,
   "metadata": {},
   "outputs": [
    {
     "data": {
      "text/plain": [
       "array([[0.9350519 , 0.06494806],\n",
       "       [0.15982743, 0.8401726 ],\n",
       "       [0.66944045, 0.3305596 ]], dtype=float32)"
      ]
     },
     "execution_count": 38,
     "metadata": {},
     "output_type": "execute_result"
    }
   ],
   "source": [
    "pred_probs = F.softmax(pred_logits_tensor, dim=1).cpu().data.numpy()\n",
    "pred_probs"
   ]
  },
  {
   "cell_type": "code",
   "execution_count": 39,
   "metadata": {},
   "outputs": [
    {
     "data": {
      "image/png": "[encoded data removed]",
      "text/plain": [
       "<Figure size 2000x500 with 3 Axes>"
      ]
     },
     "metadata": {},
     "output_type": "display_data"
    }
   ],
   "source": [
    "fig, axs = plt.subplots(1, len(img_list), figsize=(20, 5))\n",
    "for i, img in enumerate(img_list):\n",
    "    ax = axs[i]\n",
    "    ax.axis('off')\n",
    "    ax.set_title(\"Prediction: {:.0f}% No Metastasis, {:.0f}% Metastasis\\n Ground Truth: {}\"\n",
    "                 .format(100*pred_probs[i,0], 100*pred_probs[i,1], test_ground_truths[i]))\n",
    "    ax.imshow(img)"
   ]
  }
 ],
 "metadata": {
  "kernelspec": {
   "display_name": "Python 3 (ipykernel)",
   "language": "python",
   "name": "python3"
  },
  "language_info": {
   "codemirror_mode": {
    "name": "ipython",
    "version": 3
   },
   "file_extension": ".py",
   "mimetype": "text/x-python",
   "name": "python",
   "nbconvert_exporter": "python",
   "pygments_lexer": "ipython3",
   "version": "3.10.9"
  }
 },
 "nbformat": 4,
 "nbformat_minor": 2
}
