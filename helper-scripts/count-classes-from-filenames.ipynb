{
 "cells": [
  {
   "cell_type": "markdown",
   "id": "e0eeea3a",
   "metadata": {},
   "source": [
    "# Count Classes from Filenames\n",
    "This notebook counts the images with and without metastasis based on their respective filenames."
   ]
  },
  {
   "cell_type": "code",
   "execution_count": 5,
   "id": "0fa54935",
   "metadata": {},
   "outputs": [
    {
     "name": "stdout",
     "output_type": "stream",
     "text": [
      "Images without metastasis: 1597\n",
      "Images with metastasis: 854\n",
      "Total images: 2451\n"
     ]
    }
   ],
   "source": [
    "import os\n",
    "\n",
    "no_metastasis_cnt = 0\n",
    "metastasis_cnt = 0\n",
    "\n",
    "for filename in os.listdir(\"../dataset-augmented\"):\n",
    "    if (filename[5] == '0'):\n",
    "        no_metastasis_cnt += 1\n",
    "    elif (filename[5] == '1'):\n",
    "        metastasis_cnt += 1\n",
    "\n",
    "print(f\"Images without metastasis: {no_metastasis_cnt}\")\n",
    "print(f\"Images with metastasis: {metastasis_cnt}\")\n",
    "print(f\"Total images: {no_metastasis_cnt + metastasis_cnt}\")"
   ]
  },
  {
   "cell_type": "code",
   "execution_count": null,
   "id": "5ba44c51",
   "metadata": {},
   "outputs": [],
   "source": []
  }
 ],
 "metadata": {
  "kernelspec": {
   "display_name": "Python 3 (ipykernel)",
   "language": "python",
   "name": "python3"
  },
  "language_info": {
   "codemirror_mode": {
    "name": "ipython",
    "version": 3
   },
   "file_extension": ".py",
   "mimetype": "text/x-python",
   "name": "python",
   "nbconvert_exporter": "python",
   "pygments_lexer": "ipython3",
   "version": "3.10.9"
  }
 },
 "nbformat": 4,
 "nbformat_minor": 5
}
