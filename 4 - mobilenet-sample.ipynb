{
 "cells": [
  {
   "cell_type": "markdown",
   "metadata": {},
   "source": [
    "# Bone Metastasis Classification using MobileNet v2\n",
    "\n",
    "### Import Libraries"
   ]
  },
  {
   "cell_type": "code",
   "execution_count": 1,
   "metadata": {
    "vscode": {
     "languageId": "plaintext"
    }
   },
   "outputs": [
    {
     "name": "stderr",
     "output_type": "stream",
     "text": [
      "C:\\Users\\Irish\\anaconda3\\envs\\conv_env\\lib\\site-packages\\torchvision\\io\\image.py:13: UserWarning: Failed to load image Python extension: [WinError 127] The specified procedure could not be found\n",
      "  warn(f\"Failed to load image Python extension: {e}\")\n"
     ]
    }
   ],
   "source": [
    "import os\n",
    "import numpy as np\n",
    "import pandas as pd\n",
    "from PIL import Image\n",
    "from io import StringIO\n",
    "from matplotlib import pyplot as plt\n",
    "import torch\n",
    "import torch.nn as nn\n",
    "import torch.nn.functional as F\n",
    "import torch.optim as optim\n",
    "from torchvision import datasets, transforms, models\n",
    "from torchvision.utils import make_grid\n",
    "from torch.utils.data import Dataset, DataLoader\n",
    "from torch.utils.data.sampler import SubsetRandomSampler"
   ]
  },
  {
   "cell_type": "markdown",
   "metadata": {},
   "source": [
    "### Load Data"
   ]
  },
  {
   "cell_type": "code",
   "execution_count": 2,
   "metadata": {},
   "outputs": [
    {
     "data": {
      "text/plain": [
       "<torch._C.Generator at 0x1d1a8bcdc50>"
      ]
     },
     "execution_count": 2,
     "metadata": {},
     "output_type": "execute_result"
    }
   ],
   "source": [
    "# Set seed for PyTorch random number generation to create reproducible results\n",
    "torch.manual_seed(5)"
   ]
  },
  {
   "cell_type": "code",
   "execution_count": 3,
   "metadata": {},
   "outputs": [],
   "source": [
    "# Data augmentation and normalization according to the MobileNet configuration\n",
    "preprocess = transforms.Compose([\n",
    "    transforms.Resize(256),\n",
    "    transforms.CenterCrop(224),\n",
    "    transforms.ToTensor(),\n",
    "    transforms.Normalize(mean=[0.485, 0.456, 0.406], std=[0.229, 0.224, 0.225]),\n",
    "])"
   ]
  },
  {
   "cell_type": "code",
   "execution_count": 4,
   "metadata": {},
   "outputs": [],
   "source": [
    "data_dir = 'dataset-sample/' # TODO: Change\n",
    "batches = 10"
   ]
  },
  {
   "cell_type": "code",
   "execution_count": 5,
   "metadata": {},
   "outputs": [],
   "source": [
    "image_datasets = {\n",
    "    'train': \n",
    "    datasets.ImageFolder(data_dir + 'train', preprocess),\n",
    "    'test': \n",
    "    datasets.ImageFolder(data_dir + 'test', preprocess)\n",
    "}"
   ]
  },
  {
   "cell_type": "code",
   "execution_count": 6,
   "metadata": {},
   "outputs": [],
   "source": [
    "dataloaders = {\n",
    "    'train':\n",
    "    torch.utils.data.DataLoader(image_datasets['train'],\n",
    "                                batch_size=batches,\n",
    "                                shuffle=True,\n",
    "                                num_workers=0),\n",
    "    'test':\n",
    "    torch.utils.data.DataLoader(image_datasets['test'],\n",
    "                                batch_size=batches,\n",
    "                                shuffle=True,\n",
    "                                num_workers=0)\n",
    "}"
   ]
  },
  {
   "cell_type": "markdown",
   "metadata": {},
   "source": [
    "### Define Model"
   ]
  },
  {
   "cell_type": "code",
   "execution_count": 7,
   "metadata": {},
   "outputs": [
    {
     "name": "stdout",
     "output_type": "stream",
     "text": [
      "Performing torch operations on cpu device\n"
     ]
    }
   ],
   "source": [
    "# Allocate tensors to the device used for computation\n",
    "device = \"cuda\" if torch.cuda.is_available() else \"cpu\"\n",
    "print(f\"Performing torch operations on {device} device\")"
   ]
  },
  {
   "cell_type": "code",
   "execution_count": 8,
   "metadata": {},
   "outputs": [
    {
     "name": "stderr",
     "output_type": "stream",
     "text": [
      "C:\\Users\\Irish\\anaconda3\\envs\\conv_env\\lib\\site-packages\\torchvision\\models\\_utils.py:208: UserWarning: The parameter 'pretrained' is deprecated since 0.13 and will be removed in 0.15, please use 'weights' instead.\n",
      "  warnings.warn(\n",
      "C:\\Users\\Irish\\anaconda3\\envs\\conv_env\\lib\\site-packages\\torchvision\\models\\_utils.py:223: UserWarning: Arguments other than a weight enum or `None` for 'weights' are deprecated since 0.13 and will be removed in 0.15. The current behavior is equivalent to passing `weights=MobileNet_V2_Weights.IMAGENET1K_V1`. You can also use `weights=MobileNet_V2_Weights.DEFAULT` to get the most up-to-date weights.\n",
      "  warnings.warn(msg)\n",
      "Downloading: \"https://download.pytorch.org/models/mobilenet_v2-b0353104.pth\" to C:\\Users\\Irish/.cache\\torch\\hub\\checkpoints\\mobilenet_v2-b0353104.pth\n",
      "100.0%\n"
     ]
    }
   ],
   "source": [
    "# Load MobileNet v2 model\n",
    "model = models.mobilenet_v2(pretrained=True).to(device)"
   ]
  },
  {
   "cell_type": "code",
   "execution_count": 9,
   "metadata": {},
   "outputs": [],
   "source": [
    "for param in model.parameters():\n",
    "    param.requires_grad = False"
   ]
  },
  {
   "cell_type": "code",
   "execution_count": 12,
   "metadata": {},
   "outputs": [],
   "source": [
    "model.classifier[1] = nn.Linear(in_features = model.classifier[1].in_features, \n",
    "                                out_features = 2)"
   ]
  },
  {
   "cell_type": "code",
   "execution_count": 13,
   "metadata": {},
   "outputs": [],
   "source": [
    "# Define criterion (function used to compute loss) and optimizer for model\n",
    "criterion = nn.CrossEntropyLoss().to(device)\n",
    "optimizer = optim.Adam(model.parameters(), lr=0.0001)"
   ]
  },
  {
   "cell_type": "markdown",
   "metadata": {},
   "source": [
    "### Train Model"
   ]
  },
  {
   "cell_type": "code",
   "execution_count": 14,
   "metadata": {},
   "outputs": [],
   "source": [
    "def train_model(model, criterion, optimizer, num_epochs):\n",
    "    for epoch in range(num_epochs):\n",
    "        print('Epoch {}/{}'.format(epoch+1, num_epochs))\n",
    "        print('-' * 10)\n",
    "\n",
    "        for phase in ['train', 'test']:\n",
    "            if phase == 'train':\n",
    "                model.train()\n",
    "            else:\n",
    "                model.eval()\n",
    "\n",
    "            running_loss = 0.0\n",
    "            running_corrects = 0\n",
    "\n",
    "            for inputs, labels in dataloaders[phase]:\n",
    "                inputs = inputs.to(device)\n",
    "                labels = labels.to(device)\n",
    "\n",
    "                outputs = model(inputs)\n",
    "                loss = criterion(outputs, labels)\n",
    "\n",
    "                if phase == 'train':\n",
    "                    optimizer.zero_grad()\n",
    "                    loss.backward()\n",
    "                    optimizer.step()\n",
    "\n",
    "                _, preds = torch.max(outputs, 1)\n",
    "                running_loss += loss.item() * inputs.size(0)\n",
    "                running_corrects += torch.sum(preds == labels.data)\n",
    "\n",
    "            epoch_loss = running_loss / len(image_datasets[phase])\n",
    "            epoch_acc = running_corrects.double() / len(image_datasets[phase])\n",
    "\n",
    "            print('{} loss: {:.4f}, acc: {:.4f}'.format(phase,\n",
    "                                                        epoch_loss,\n",
    "                                                        epoch_acc))\n",
    "    return model"
   ]
  },
  {
   "cell_type": "code",
   "execution_count": 15,
   "metadata": {},
   "outputs": [
    {
     "name": "stdout",
     "output_type": "stream",
     "text": [
      "Epoch 1/90\n",
      "----------\n",
      "train loss: 0.8860, acc: 0.4000\n",
      "test loss: 0.7454, acc: 0.5000\n",
      "Epoch 2/90\n",
      "----------\n",
      "train loss: 0.7737, acc: 0.4000\n",
      "test loss: 0.7549, acc: 0.5000\n",
      "Epoch 3/90\n",
      "----------\n",
      "train loss: 0.8693, acc: 0.2000\n",
      "test loss: 0.7721, acc: 0.5000\n",
      "Epoch 4/90\n",
      "----------\n",
      "train loss: 0.7695, acc: 0.3000\n",
      "test loss: 0.7915, acc: 0.5000\n",
      "Epoch 5/90\n",
      "----------\n",
      "train loss: 0.7332, acc: 0.4000\n",
      "test loss: 0.7968, acc: 0.5000\n",
      "Epoch 6/90\n",
      "----------\n",
      "train loss: 0.7614, acc: 0.5000\n",
      "test loss: 0.7771, acc: 0.5000\n",
      "Epoch 7/90\n",
      "----------\n",
      "train loss: 0.7854, acc: 0.5000\n",
      "test loss: 0.7714, acc: 0.3333\n",
      "Epoch 8/90\n",
      "----------\n",
      "train loss: 0.7569, acc: 0.6000\n",
      "test loss: 0.7594, acc: 0.3333\n",
      "Epoch 9/90\n",
      "----------\n",
      "train loss: 0.7812, acc: 0.4000\n",
      "test loss: 0.7520, acc: 0.3333\n",
      "Epoch 10/90\n",
      "----------\n",
      "train loss: 0.7177, acc: 0.5000\n",
      "test loss: 0.7537, acc: 0.3333\n",
      "Epoch 11/90\n",
      "----------\n",
      "train loss: 0.7201, acc: 0.4000\n",
      "test loss: 0.7539, acc: 0.3333\n",
      "Epoch 12/90\n",
      "----------\n",
      "train loss: 0.6524, acc: 0.6000\n",
      "test loss: 0.7563, acc: 0.3333\n",
      "Epoch 13/90\n",
      "----------\n",
      "train loss: 0.7475, acc: 0.5000\n",
      "test loss: 0.7550, acc: 0.3333\n",
      "Epoch 14/90\n",
      "----------\n",
      "train loss: 0.7034, acc: 0.6000\n",
      "test loss: 0.7631, acc: 0.3333\n",
      "Epoch 15/90\n",
      "----------\n",
      "train loss: 0.6910, acc: 0.4000\n",
      "test loss: 0.7649, acc: 0.3333\n",
      "Epoch 16/90\n",
      "----------\n",
      "train loss: 0.7285, acc: 0.3000\n",
      "test loss: 0.7625, acc: 0.3333\n",
      "Epoch 17/90\n",
      "----------\n",
      "train loss: 0.7314, acc: 0.5000\n",
      "test loss: 0.7614, acc: 0.3333\n",
      "Epoch 18/90\n",
      "----------\n",
      "train loss: 0.6757, acc: 0.5000\n",
      "test loss: 0.7621, acc: 0.3333\n",
      "Epoch 19/90\n",
      "----------\n",
      "train loss: 0.7069, acc: 0.3000\n",
      "test loss: 0.7695, acc: 0.3333\n",
      "Epoch 20/90\n",
      "----------\n",
      "train loss: 0.6435, acc: 0.6000\n",
      "test loss: 0.7673, acc: 0.3333\n",
      "Epoch 21/90\n",
      "----------\n",
      "train loss: 0.6415, acc: 0.6000\n",
      "test loss: 0.7721, acc: 0.1667\n",
      "Epoch 22/90\n",
      "----------\n",
      "train loss: 0.6576, acc: 0.6000\n",
      "test loss: 0.7795, acc: 0.1667\n",
      "Epoch 23/90\n",
      "----------\n",
      "train loss: 0.5923, acc: 0.7000\n",
      "test loss: 0.7824, acc: 0.0000\n",
      "Epoch 24/90\n",
      "----------\n",
      "train loss: 0.5781, acc: 0.8000\n",
      "test loss: 0.7887, acc: 0.0000\n",
      "Epoch 25/90\n",
      "----------\n",
      "train loss: 0.6300, acc: 0.8000\n",
      "test loss: 0.7924, acc: 0.0000\n",
      "Epoch 26/90\n",
      "----------\n",
      "train loss: 0.6550, acc: 0.5000\n",
      "test loss: 0.7933, acc: 0.0000\n",
      "Epoch 27/90\n",
      "----------\n",
      "train loss: 0.5656, acc: 0.9000\n",
      "test loss: 0.7945, acc: 0.1667\n",
      "Epoch 28/90\n",
      "----------\n",
      "train loss: 0.5848, acc: 0.7000\n",
      "test loss: 0.7954, acc: 0.1667\n",
      "Epoch 29/90\n",
      "----------\n",
      "train loss: 0.5495, acc: 0.9000\n",
      "test loss: 0.7963, acc: 0.1667\n",
      "Epoch 30/90\n",
      "----------\n",
      "train loss: 0.5682, acc: 0.9000\n",
      "test loss: 0.7954, acc: 0.1667\n",
      "Epoch 31/90\n",
      "----------\n",
      "train loss: 0.5297, acc: 0.9000\n",
      "test loss: 0.7925, acc: 0.1667\n",
      "Epoch 32/90\n",
      "----------\n",
      "train loss: 0.5777, acc: 0.8000\n",
      "test loss: 0.7880, acc: 0.3333\n",
      "Epoch 33/90\n",
      "----------\n",
      "train loss: 0.5198, acc: 0.8000\n",
      "test loss: 0.7816, acc: 0.3333\n",
      "Epoch 34/90\n",
      "----------\n",
      "train loss: 0.4792, acc: 1.0000\n",
      "test loss: 0.7746, acc: 0.3333\n",
      "Epoch 35/90\n",
      "----------\n",
      "train loss: 0.4564, acc: 1.0000\n",
      "test loss: 0.7705, acc: 0.5000\n",
      "Epoch 36/90\n",
      "----------\n",
      "train loss: 0.5814, acc: 0.7000\n",
      "test loss: 0.7685, acc: 0.5000\n",
      "Epoch 37/90\n",
      "----------\n",
      "train loss: 0.4752, acc: 1.0000\n",
      "test loss: 0.7682, acc: 0.5000\n",
      "Epoch 38/90\n",
      "----------\n",
      "train loss: 0.5295, acc: 1.0000\n",
      "test loss: 0.7681, acc: 0.5000\n",
      "Epoch 39/90\n",
      "----------\n",
      "train loss: 0.4965, acc: 1.0000\n",
      "test loss: 0.7686, acc: 0.5000\n",
      "Epoch 40/90\n",
      "----------\n",
      "train loss: 0.5483, acc: 0.9000\n",
      "test loss: 0.7703, acc: 0.5000\n",
      "Epoch 41/90\n",
      "----------\n",
      "train loss: 0.4818, acc: 0.9000\n",
      "test loss: 0.7723, acc: 0.5000\n",
      "Epoch 42/90\n",
      "----------\n",
      "train loss: 0.4871, acc: 1.0000\n",
      "test loss: 0.7738, acc: 0.5000\n",
      "Epoch 43/90\n",
      "----------\n",
      "train loss: 0.4341, acc: 1.0000\n",
      "test loss: 0.7748, acc: 0.5000\n",
      "Epoch 44/90\n",
      "----------\n",
      "train loss: 0.4859, acc: 1.0000\n",
      "test loss: 0.7758, acc: 0.5000\n",
      "Epoch 45/90\n",
      "----------\n",
      "train loss: 0.4852, acc: 0.9000\n",
      "test loss: 0.7764, acc: 0.5000\n",
      "Epoch 46/90\n",
      "----------\n",
      "train loss: 0.4511, acc: 1.0000\n",
      "test loss: 0.7769, acc: 0.5000\n",
      "Epoch 47/90\n",
      "----------\n",
      "train loss: 0.4376, acc: 0.9000\n",
      "test loss: 0.7777, acc: 0.6667\n",
      "Epoch 48/90\n",
      "----------\n",
      "train loss: 0.4960, acc: 0.9000\n",
      "test loss: 0.7775, acc: 0.6667\n",
      "Epoch 49/90\n",
      "----------\n",
      "train loss: 0.4030, acc: 1.0000\n",
      "test loss: 0.7785, acc: 0.6667\n",
      "Epoch 50/90\n",
      "----------\n",
      "train loss: 0.4501, acc: 0.9000\n",
      "test loss: 0.7797, acc: 0.6667\n",
      "Epoch 51/90\n",
      "----------\n",
      "train loss: 0.3841, acc: 1.0000\n",
      "test loss: 0.7800, acc: 0.6667\n",
      "Epoch 52/90\n",
      "----------\n",
      "train loss: 0.4425, acc: 0.9000\n",
      "test loss: 0.7796, acc: 0.6667\n",
      "Epoch 53/90\n",
      "----------\n",
      "train loss: 0.4082, acc: 1.0000\n",
      "test loss: 0.7791, acc: 0.6667\n",
      "Epoch 54/90\n",
      "----------\n",
      "train loss: 0.3865, acc: 1.0000\n",
      "test loss: 0.7793, acc: 0.6667\n",
      "Epoch 55/90\n",
      "----------\n",
      "train loss: 0.3905, acc: 1.0000\n",
      "test loss: 0.7794, acc: 0.6667\n",
      "Epoch 56/90\n",
      "----------\n",
      "train loss: 0.3883, acc: 1.0000\n",
      "test loss: 0.7803, acc: 0.6667\n",
      "Epoch 57/90\n",
      "----------\n",
      "train loss: 0.4620, acc: 0.9000\n",
      "test loss: 0.7821, acc: 0.6667\n",
      "Epoch 58/90\n",
      "----------\n",
      "train loss: 0.3773, acc: 0.9000\n",
      "test loss: 0.7838, acc: 0.5000\n",
      "Epoch 59/90\n",
      "----------\n",
      "train loss: 0.4101, acc: 0.8000\n",
      "test loss: 0.7842, acc: 0.5000\n",
      "Epoch 60/90\n",
      "----------\n",
      "train loss: 0.3657, acc: 1.0000\n",
      "test loss: 0.7850, acc: 0.5000\n",
      "Epoch 61/90\n",
      "----------\n",
      "train loss: 0.4198, acc: 1.0000\n",
      "test loss: 0.7853, acc: 0.5000\n",
      "Epoch 62/90\n",
      "----------\n",
      "train loss: 0.3825, acc: 1.0000\n",
      "test loss: 0.7862, acc: 0.5000\n",
      "Epoch 63/90\n",
      "----------\n",
      "train loss: 0.3410, acc: 1.0000\n",
      "test loss: 0.7889, acc: 0.3333\n",
      "Epoch 64/90\n",
      "----------\n",
      "train loss: 0.3887, acc: 1.0000\n",
      "test loss: 0.7922, acc: 0.3333\n",
      "Epoch 65/90\n",
      "----------\n",
      "train loss: 0.3415, acc: 0.9000\n",
      "test loss: 0.7954, acc: 0.3333\n",
      "Epoch 66/90\n",
      "----------\n",
      "train loss: 0.3436, acc: 1.0000\n",
      "test loss: 0.7984, acc: 0.3333\n",
      "Epoch 67/90\n",
      "----------\n",
      "train loss: 0.3239, acc: 1.0000\n",
      "test loss: 0.8025, acc: 0.3333\n",
      "Epoch 68/90\n",
      "----------\n",
      "train loss: 0.3868, acc: 1.0000\n",
      "test loss: 0.8073, acc: 0.5000\n",
      "Epoch 69/90\n",
      "----------\n",
      "train loss: 0.3750, acc: 1.0000\n",
      "test loss: 0.8122, acc: 0.5000\n",
      "Epoch 70/90\n",
      "----------\n",
      "train loss: 0.3321, acc: 1.0000\n",
      "test loss: 0.8152, acc: 0.5000\n",
      "Epoch 71/90\n",
      "----------\n",
      "train loss: 0.3220, acc: 1.0000\n",
      "test loss: 0.8192, acc: 0.5000\n",
      "Epoch 72/90\n",
      "----------\n",
      "train loss: 0.3821, acc: 0.9000\n",
      "test loss: 0.8240, acc: 0.5000\n",
      "Epoch 73/90\n",
      "----------\n",
      "train loss: 0.3668, acc: 0.9000\n",
      "test loss: 0.8272, acc: 0.5000\n",
      "Epoch 74/90\n",
      "----------\n",
      "train loss: 0.3076, acc: 1.0000\n",
      "test loss: 0.8296, acc: 0.5000\n",
      "Epoch 75/90\n",
      "----------\n",
      "train loss: 0.3412, acc: 0.9000\n",
      "test loss: 0.8323, acc: 0.5000\n",
      "Epoch 76/90\n",
      "----------\n",
      "train loss: 0.3119, acc: 1.0000\n",
      "test loss: 0.8341, acc: 0.5000\n",
      "Epoch 77/90\n",
      "----------\n",
      "train loss: 0.3309, acc: 0.9000\n",
      "test loss: 0.8358, acc: 0.5000\n",
      "Epoch 78/90\n",
      "----------\n",
      "train loss: 0.3245, acc: 1.0000\n",
      "test loss: 0.8366, acc: 0.5000\n",
      "Epoch 79/90\n",
      "----------\n",
      "train loss: 0.3088, acc: 1.0000\n",
      "test loss: 0.8370, acc: 0.5000\n",
      "Epoch 80/90\n",
      "----------\n",
      "train loss: 0.2933, acc: 1.0000\n",
      "test loss: 0.8377, acc: 0.5000\n",
      "Epoch 81/90\n",
      "----------\n",
      "train loss: 0.3008, acc: 1.0000\n",
      "test loss: 0.8387, acc: 0.5000\n",
      "Epoch 82/90\n",
      "----------\n",
      "train loss: 0.3052, acc: 1.0000\n",
      "test loss: 0.8389, acc: 0.5000\n",
      "Epoch 83/90\n",
      "----------\n",
      "train loss: 0.2819, acc: 1.0000\n",
      "test loss: 0.8390, acc: 0.5000\n",
      "Epoch 84/90\n",
      "----------\n",
      "train loss: 0.3244, acc: 1.0000\n",
      "test loss: 0.8389, acc: 0.5000\n",
      "Epoch 85/90\n",
      "----------\n",
      "train loss: 0.2881, acc: 1.0000\n",
      "test loss: 0.8395, acc: 0.5000\n",
      "Epoch 86/90\n",
      "----------\n",
      "train loss: 0.3327, acc: 0.9000\n",
      "test loss: 0.8400, acc: 0.5000\n",
      "Epoch 87/90\n",
      "----------\n",
      "train loss: 0.2752, acc: 1.0000\n",
      "test loss: 0.8409, acc: 0.5000\n",
      "Epoch 88/90\n",
      "----------\n",
      "train loss: 0.3492, acc: 1.0000\n",
      "test loss: 0.8421, acc: 0.5000\n",
      "Epoch 89/90\n",
      "----------\n",
      "train loss: 0.2839, acc: 1.0000\n",
      "test loss: 0.8435, acc: 0.5000\n",
      "Epoch 90/90\n",
      "----------\n",
      "train loss: 0.2466, acc: 1.0000\n",
      "test loss: 0.8454, acc: 0.5000\n"
     ]
    }
   ],
   "source": [
    "model_trained = train_model(model, criterion, optimizer, num_epochs=90)"
   ]
  },
  {
   "cell_type": "markdown",
   "metadata": {},
   "source": [
    "### Save Model"
   ]
  },
  {
   "cell_type": "code",
   "execution_count": 16,
   "metadata": {},
   "outputs": [],
   "source": [
    "torch.save(model_trained.state_dict(), 'weights/mobilenet_weights.h5')"
   ]
  },
  {
   "cell_type": "code",
   "execution_count": 17,
   "metadata": {},
   "outputs": [
    {
     "name": "stderr",
     "output_type": "stream",
     "text": [
      "C:\\Users\\Irish\\anaconda3\\envs\\conv_env\\lib\\site-packages\\torchvision\\models\\_utils.py:223: UserWarning: Arguments other than a weight enum or `None` for 'weights' are deprecated since 0.13 and will be removed in 0.15. The current behavior is equivalent to passing `weights=None`.\n",
      "  warnings.warn(msg)\n"
     ]
    },
    {
     "data": {
      "text/plain": [
       "<All keys matched successfully>"
      ]
     },
     "execution_count": 17,
     "metadata": {},
     "output_type": "execute_result"
    }
   ],
   "source": [
    "model = models.mobilenet_v2(pretrained=False).to(device)\n",
    "model.classifier[1] = nn.Linear(in_features = model.classifier[1].in_features, \n",
    "                                out_features = 2)\n",
    "model.load_state_dict(torch.load('weights/mobilenet_weights.h5'))"
   ]
  },
  {
   "cell_type": "markdown",
   "metadata": {},
   "source": [
    "### Show Predictions on Sample Images"
   ]
  },
  {
   "cell_type": "code",
   "execution_count": 18,
   "metadata": {},
   "outputs": [],
   "source": [
    "test_img_paths = [data_dir + \"test/normal/\" + \"19-265NO-Anterior.tif\",\n",
    "                  data_dir + \"test/abnormal/\" + \"19-267YES-Anterior.tif\",\n",
    "                  data_dir + \"test/normal/\" + \"19-265NO-Posterior.tif\"]\n",
    "test_ground_truths = [\"No Metastasis\", \"Metastasis\", \"No Metastasis\"]\n",
    "img_list = [Image.open(img_path) for img_path in test_img_paths]"
   ]
  },
  {
   "cell_type": "code",
   "execution_count": 21,
   "metadata": {},
   "outputs": [],
   "source": [
    "validation_batch = torch.stack([preprocess(img).to(device) for img in img_list])"
   ]
  },
  {
   "cell_type": "code",
   "execution_count": 22,
   "metadata": {},
   "outputs": [
    {
     "data": {
      "text/plain": [
       "tensor([[ 0.2763, -0.0144],\n",
       "        [-0.8627,  0.3641],\n",
       "        [ 0.2837, -0.1797]], grad_fn=<AddmmBackward0>)"
      ]
     },
     "execution_count": 22,
     "metadata": {},
     "output_type": "execute_result"
    }
   ],
   "source": [
    "pred_logits_tensor = model(validation_batch)\n",
    "pred_logits_tensor"
   ]
  },
  {
   "cell_type": "code",
   "execution_count": 23,
   "metadata": {},
   "outputs": [
    {
     "data": {
      "text/plain": [
       "array([[0.5721587 , 0.4278413 ],\n",
       "       [0.22675858, 0.77324146],\n",
       "       [0.61383224, 0.38616773]], dtype=float32)"
      ]
     },
     "execution_count": 23,
     "metadata": {},
     "output_type": "execute_result"
    }
   ],
   "source": [
    "pred_probs = F.softmax(pred_logits_tensor, dim=1).cpu().data.numpy()\n",
    "pred_probs"
   ]
  },
  {
   "cell_type": "code",
   "execution_count": 24,
   "metadata": {},
   "outputs": [
    {
     "data": {
      "image/png": "[encoded data removed]",
      "text/plain": [
       "<Figure size 2000x500 with 3 Axes>"
      ]
     },
     "metadata": {},
     "output_type": "display_data"
    }
   ],
   "source": [
    "fig, axs = plt.subplots(1, len(img_list), figsize=(20, 5))\n",
    "for i, img in enumerate(img_list):\n",
    "    ax = axs[i]\n",
    "    ax.axis('off')\n",
    "    ax.set_title(\"Prediction: {:.0f}% No Metastasis, {:.0f}% Metastasis\\n Ground Truth: {}\"\n",
    "                 .format(100*pred_probs[i,0], 100*pred_probs[i,1], test_ground_truths[i]))\n",
    "    ax.imshow(img)"
   ]
  }
 ],
 "metadata": {
  "kernelspec": {
   "display_name": "Python 3 (ipykernel)",
   "language": "python",
   "name": "python3"
  },
  "language_info": {
   "codemirror_mode": {
    "name": "ipython",
    "version": 3
   },
   "file_extension": ".py",
   "mimetype": "text/x-python",
   "name": "python",
   "nbconvert_exporter": "python",
   "pygments_lexer": "ipython3",
   "version": "3.10.9"
  }
 },
 "nbformat": 4,
 "nbformat_minor": 2
}
