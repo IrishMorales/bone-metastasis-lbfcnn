{
 "cells": [
  {
   "cell_type": "markdown",
   "id": "1a818a28",
   "metadata": {},
   "source": [
    "# Data Shuffling and Stratified Train-Val-Test Split Sample Implementation"
   ]
  },
  {
   "cell_type": "markdown",
   "id": "2bb5dcb2",
   "metadata": {},
   "source": [
    "### Import Libraries"
   ]
  },
  {
   "cell_type": "code",
   "execution_count": 1,
   "id": "cf2c3f11",
   "metadata": {},
   "outputs": [
    {
     "name": "stderr",
     "output_type": "stream",
     "text": [
      "C:\\Users\\Irish\\anaconda3\\envs\\conv_env\\lib\\site-packages\\torchvision\\io\\image.py:13: UserWarning: Failed to load image Python extension: [WinError 127] The specified procedure could not be found\n",
      "  warn(f\"Failed to load image Python extension: {e}\")\n"
     ]
    }
   ],
   "source": [
    "import os\n",
    "import numpy as np\n",
    "import pandas as pd\n",
    "from PIL import Image\n",
    "from io import StringIO\n",
    "from matplotlib import pyplot as plt\n",
    "import torch\n",
    "import torch.nn as nn\n",
    "import torch.nn.functional as F\n",
    "import torch.optim as optim\n",
    "from torchvision import datasets, transforms\n",
    "from torchvision.utils import make_grid\n",
    "from torch.utils.data import Dataset, DataLoader, Subset\n",
    "from sklearn.model_selection import train_test_split"
   ]
  },
  {
   "cell_type": "markdown",
   "id": "fc622cff",
   "metadata": {},
   "source": [
    "### Define Variables & Helper Functions"
   ]
  },
  {
   "cell_type": "code",
   "execution_count": 2,
   "id": "50cb10f6",
   "metadata": {},
   "outputs": [
    {
     "data": {
      "text/plain": [
       "<torch._C.Generator at 0x264a18c1c70>"
      ]
     },
     "execution_count": 2,
     "metadata": {},
     "output_type": "execute_result"
    }
   ],
   "source": [
    "# Set seed for random number generation to create reproducible results\n",
    "random_seed = 5\n",
    "torch.manual_seed(random_seed)"
   ]
  },
  {
   "cell_type": "code",
   "execution_count": 3,
   "id": "409a7e9e",
   "metadata": {},
   "outputs": [],
   "source": [
    "# Transformations to apply to inputs\n",
    "preprocess = transforms.Compose([\n",
    "    # Convert PIL Image to tensor and scale to [0, 1] through max normalization\n",
    "    # (i.e. for every pixel in image, new_pixel_value = pixel/255)\n",
    "    transforms.ToTensor()\n",
    "])"
   ]
  },
  {
   "cell_type": "code",
   "execution_count": 4,
   "id": "676a0614",
   "metadata": {},
   "outputs": [],
   "source": [
    "# Helper function to get ground truth class of an image\n",
    "def get_img_labels(img_dir):\n",
    "    labels = ''\n",
    "    \n",
    "    for filename in os.listdir(img_dir):\n",
    "        # If image has no metastasis\n",
    "        if (filename[5] == '0'):\n",
    "            labels += filename + \",0\\n\"\n",
    "            \n",
    "        # If image has metastasis\n",
    "        else:\n",
    "            labels += filename + \",1\\n\"\n",
    "        \n",
    "    return labels"
   ]
  },
  {
   "cell_type": "markdown",
   "id": "1fb8dd43",
   "metadata": {},
   "source": [
    "### Load Data"
   ]
  },
  {
   "cell_type": "code",
   "execution_count": 5,
   "id": "ba0ca4e5",
   "metadata": {},
   "outputs": [],
   "source": [
    "# Image dataset\n",
    "class CustomDataset(Dataset):\n",
    "    def __init__(self, img_dir, transform):\n",
    "        self.img_dir = img_dir\n",
    "        self.img_labels = pd.read_csv(StringIO(get_img_labels(img_dir)), sep=\",\", header=None)\n",
    "        self.transform = transform\n",
    "\n",
    "    def __len__(self):\n",
    "        return len(self.img_labels)\n",
    "\n",
    "    def __getitem__(self, idx):\n",
    "        # Generate image filepath\n",
    "        filename = self.img_labels.iloc[idx, 0]\n",
    "        img_path = self.img_dir + \"/\" + filename\n",
    "        \n",
    "        # Read and transform image\n",
    "        image = Image.open(img_path).convert(\"RGB\")\n",
    "        image = self.transform(image)\n",
    "        \n",
    "        # Determine ground truth class (metastasis or no metastasis)\n",
    "        label = self.img_labels.iloc[idx, 1]\n",
    "        return image, label, filename"
   ]
  },
  {
   "cell_type": "code",
   "execution_count": 6,
   "id": "c167d988",
   "metadata": {},
   "outputs": [],
   "source": [
    "# Dataset and dataloader for training data\n",
    "dataset = CustomDataset(img_dir=r\"dataset-augmented\", transform=preprocess)"
   ]
  },
  {
   "cell_type": "markdown",
   "id": "d5df79ef",
   "metadata": {},
   "source": [
    "### Data Shuffling & Train-Val-Test Split"
   ]
  },
  {
   "cell_type": "code",
   "execution_count": 7,
   "id": "e42658f7",
   "metadata": {},
   "outputs": [],
   "source": [
    "# Get classes and indices of images\n",
    "labels = list(dataset.img_labels.iloc[:, 1])\n",
    "indices = np.arange(len(labels))"
   ]
  },
  {
   "cell_type": "code",
   "execution_count": 8,
   "id": "9aaba664",
   "metadata": {},
   "outputs": [
    {
     "name": "stdout",
     "output_type": "stream",
     "text": [
      "Images in training set: 1715 (69.97% of total dataset)\n",
      "Images in validation set: 245 (10.00% of total dataset)\n",
      "Images in test set: 491 (20.03% of total dataset)\n",
      "----------\n",
      "Total images in dataset: 2451\n"
     ]
    }
   ],
   "source": [
    "# Split dataset into 70% training, 10% validation, and 20% test with shuffle and stratified split\n",
    "# Split dataset into training and test sets\n",
    "train_indices, test_indices = train_test_split(indices, \n",
    "                                       train_size=0.8, \n",
    "                                       random_state=random_seed, # TODO: Change so that every epoch, random_seed += 1\n",
    "                                       shuffle=True, \n",
    "                                       stratify=labels)\n",
    "\n",
    "# Split training set into training and validation sets\n",
    "train_labels = [labels[i] for i in train_indices]\n",
    "train_indices, val_indices = train_test_split(train_indices, \n",
    "                                      train_size=0.875,\n",
    "                                      random_state=random_seed, \n",
    "                                      shuffle=True, \n",
    "                                      stratify=train_labels)\n",
    "\n",
    "# Check that dataset was split into 70% training, 10% validation, and 20% test\n",
    "print(f\"Images in training set: {len(train_indices)} ({(len(train_indices)*100/len(indices)):.2f}% of total dataset)\")\n",
    "print(f\"Images in validation set: {len(val_indices)} ({(len(val_indices)*100/len(indices)):.2f}% of total dataset)\")\n",
    "print(f\"Images in test set: {len(test_indices)} ({(len(test_indices)*100/len(indices)):.2f}% of total dataset)\")\n",
    "print(\"-\" * 10)\n",
    "print(f\"Total images in dataset: {len(indices)}\")"
   ]
  },
  {
   "cell_type": "code",
   "execution_count": 9,
   "id": "1038a739",
   "metadata": {},
   "outputs": [
    {
     "name": "stdout",
     "output_type": "stream",
     "text": [
      "Classes in training set:\n",
      "1117 without metastasis (65.13% of training set)\n",
      "598 with metastasis (34.87% of training set)\n",
      "\n",
      "Classes in validation set:\n",
      "160 without metastasis (65.31% of validation set)\n",
      "85 with metastasis (34.69% of validation set)\n",
      "\n",
      "Classes in test set:\n",
      "320 without metastasis (65.17% of test set)\n",
      "171 with metastasis (34.83% of test set)\n",
      "----------\n",
      "Total classes in dataset:\n",
      "1597 without metastasis (65.16% of dataset)\n",
      "854 with metastasis (34.84% of dataset)\n"
     ]
    }
   ],
   "source": [
    "# Check that training, validation, and test sets have the same ratio of non-metastasis to metastasis as the whole dataset\n",
    "train_labels = [labels[i] for i in train_indices]\n",
    "val_labels = [labels[i] for i in val_indices]\n",
    "test_labels = [labels[i] for i in test_indices]\n",
    "\n",
    "train_classes, train_counts = np.unique(train_labels, return_counts=True)\n",
    "val_classes, val_counts = np.unique(val_labels, return_counts=True)\n",
    "test_classes, test_counts = np.unique(test_labels, return_counts=True)\n",
    "dataset_classes, dataset_counts = np.unique(labels, return_counts=True)\n",
    "\n",
    "print(f\"Classes in training set:\")\n",
    "print(f\"{train_counts[0]} without metastasis ({(train_counts[0]*100/len(train_indices)):.2f}% of training set)\")\n",
    "print(f\"{train_counts[1]} with metastasis ({(train_counts[1]*100/len(train_indices)):.2f}% of training set)\\n\")\n",
    "print(f\"Classes in validation set:\")\n",
    "print(f\"{val_counts[0]} without metastasis ({(val_counts[0]*100/len(val_indices)):.2f}% of validation set)\")\n",
    "print(f\"{val_counts[1]} with metastasis ({(val_counts[1]*100/len(val_indices)):.2f}% of validation set)\\n\")\n",
    "print(f\"Classes in test set:\")\n",
    "print(f\"{test_counts[0]} without metastasis ({(test_counts[0]*100/len(test_indices)):.2f}% of test set)\")\n",
    "print(f\"{test_counts[1]} with metastasis ({(test_counts[1]*100/len(test_indices)):.2f}% of test set)\")\n",
    "print(\"-\" * 10)\n",
    "print(f\"Total classes in dataset:\")\n",
    "print(f\"{dataset_counts[0]} without metastasis ({(dataset_counts[0]*100/len(indices)):.2f}% of dataset)\")\n",
    "print(f\"{dataset_counts[1]} with metastasis ({(dataset_counts[1]*100/len(indices)):.2f}% of dataset)\")"
   ]
  },
  {
   "cell_type": "code",
   "execution_count": 10,
   "id": "2e3e0875",
   "metadata": {},
   "outputs": [],
   "source": [
    "# Get training, validation, and test sets\n",
    "train_set = Subset(dataset, train_indices)\n",
    "val_set = Subset(dataset, val_indices)\n",
    "test_set = Subset(dataset, test_indices)"
   ]
  },
  {
   "cell_type": "code",
   "execution_count": 11,
   "id": "d6dbb957",
   "metadata": {},
   "outputs": [],
   "source": [
    "# Load training, validation, and test sets\n",
    "batch_size = 10\n",
    "\n",
    "train_loader = DataLoader(train_set, batch_size=batch_size, shuffle=True)\n",
    "val_loader = DataLoader(val_set, batch_size=batch_size, shuffle=True)\n",
    "test_loader = DataLoader(test_set, batch_size=batch_size, shuffle=True)"
   ]
  },
  {
   "cell_type": "code",
   "execution_count": 14,
   "id": "35e0183f",
   "metadata": {},
   "outputs": [
    {
     "name": "stdout",
     "output_type": "stream",
     "text": [
      "Classes: 0 1 0 0 1 1 0 0 1 0\n"
     ]
    },
    {
     "data": {
      "image/png": "[encoded data removed]",
      "text/plain": [
       "<Figure size 640x480 with 1 Axes>"
      ]
     },
     "metadata": {},
     "output_type": "display_data"
    }
   ],
   "source": [
    "# Show random images from training data and their ground truth classes\n",
    "dataiter = iter(train_loader)\n",
    "images, labels, filenames = next(dataiter)\n",
    "\n",
    "plt.axis('off')\n",
    "plt.imshow(make_grid(images).permute(1,2,0))\n",
    "print(\"Classes: \" + ' '.join(f'{labels[j]}' for j in range(len(labels))))"
   ]
  },
  {
   "cell_type": "markdown",
   "id": "e40fb5cf",
   "metadata": {},
   "source": [
    "### Define Model"
   ]
  },
  {
   "cell_type": "code",
   "execution_count": null,
   "id": "0056a294",
   "metadata": {},
   "outputs": [],
   "source": [
    "# Create model with CNN and MLP for classification\n",
    "class CustomModel(nn.Module):\n",
    "    \n",
    "    # Define layers\n",
    "    def __init__(self):\n",
    "        super().__init__()\n",
    "        self.conv = nn.Conv2d(in_channels = 1, out_channels = 1, kernel_size = 5)\n",
    "        self.pool = nn.MaxPool2d(kernel_size = 2)\n",
    "        self.fc1 = nn.Linear(in_features = 1 * 158 * 52, out_features = 200)\n",
    "        self.fc2 = nn.Linear(in_features = 200, out_features = 100)\n",
    "        self.fc3 = nn.Linear(in_features = 100, out_features = 2)\n",
    "\n",
    "    # Apply layers\n",
    "    def forward(self, x):\n",
    "        # CNN layers for convoltion\n",
    "        x = self.pool(F.relu(self.conv(x)))\n",
    "        x = self.pool(F.relu(self.conv(x)))\n",
    "        # Flatten all dimensions except batch\n",
    "        x = torch.flatten(input = x, start_dim = 1)\n",
    "        # MLP layers for classification\n",
    "        x = F.relu(self.fc1(x))\n",
    "        x = F.relu(self.fc2(x))\n",
    "        x = F.relu(self.fc3(x))\n",
    "        x = F.softmax(input = x, dim = 1)\n",
    "        return x"
   ]
  },
  {
   "cell_type": "code",
   "execution_count": null,
   "id": "8ff0a61b",
   "metadata": {},
   "outputs": [],
   "source": [
    "# Allocate tensors to the device used for computation\n",
    "device = \"cuda\" if torch.cuda.is_available() else \"cpu\"\n",
    "print(f\"Performing torch operations on {device} device\")"
   ]
  },
  {
   "cell_type": "code",
   "execution_count": null,
   "id": "dc655e60",
   "metadata": {},
   "outputs": [],
   "source": [
    "# Instantiate model\n",
    "model = CustomModel()"
   ]
  },
  {
   "cell_type": "code",
   "execution_count": null,
   "id": "c9b96e03",
   "metadata": {},
   "outputs": [],
   "source": [
    "# Define criterion (function used to compute loss) and optimizer for model\n",
    "criterion = nn.CrossEntropyLoss()\n",
    "criterion = criterion.to(device)\n",
    "optimizer = optim.Adam(model.parameters(), lr=0.0001)"
   ]
  },
  {
   "cell_type": "markdown",
   "id": "98426dc8",
   "metadata": {},
   "source": [
    "### Train Model"
   ]
  },
  {
   "cell_type": "code",
   "execution_count": null,
   "id": "34317972",
   "metadata": {},
   "outputs": [],
   "source": [
    "epochs = 100\n",
    "losses = []"
   ]
  },
  {
   "cell_type": "code",
   "execution_count": null,
   "id": "b7f34f49",
   "metadata": {},
   "outputs": [],
   "source": [
    "# Train model\n",
    "for epoch in range(epochs):\n",
    "    print(f\"Epoch: {epoch}/{epochs-1}\")\n",
    "    running_loss = 0\n",
    "    batch_count = 0\n",
    "    \n",
    "    for batch_index, batch_data in enumerate(trainloader, 0):\n",
    "        # Get the inputs; data is a list of [images, labels]\n",
    "        images, labels = batch_data\n",
    "\n",
    "        # Forward pass\n",
    "        predictions = model(images) # Pass input through model.forward()\n",
    "        loss = criterion(predictions, labels) # Compute loss against ground truth labels\n",
    "        \n",
    "        # Backpropagation\n",
    "        optimizer.zero_grad() # Reset gradients from previous passes\n",
    "        loss.backward() # Compute gradients using derivative of loss\n",
    "        optimizer.step() # Update values using gradients\n",
    "\n",
    "        running_loss += loss.item() # Add batch loss to current epoch loss\n",
    "        batch_count += 1 # Increment number of finished batches\n",
    "    \n",
    "    running_loss = running_loss / batch_count\n",
    "    losses.append(running_loss)\n",
    "    print(\"Loss: {}\".format(running_loss))\n",
    "    print(\"------------------\")"
   ]
  },
  {
   "cell_type": "markdown",
   "id": "d63de52a",
   "metadata": {},
   "source": [
    "### Evaluate Model"
   ]
  },
  {
   "cell_type": "code",
   "execution_count": null,
   "id": "5154e1a3",
   "metadata": {},
   "outputs": [],
   "source": [
    "# Plot losses\n",
    "ax = plt.axes()\n",
    "plt.plot(losses, color='red')\n",
    "plt.title('Training Loss Evaluation')\n",
    "ax.set_xticks([x for x in range(epochs)])\n",
    "plt.xlabel('Epoch')\n",
    "plt.ylabel('Magnitude')\n",
    "plt.show()"
   ]
  },
  {
   "cell_type": "markdown",
   "id": "86451a58",
   "metadata": {},
   "source": [
    "### Test Model on Test Dataset"
   ]
  },
  {
   "cell_type": "code",
   "execution_count": null,
   "id": "adbf861c",
   "metadata": {},
   "outputs": [],
   "source": [
    "# Dataset and dataloader for test data\n",
    "testset = CustomDataset(img_dir=r\"dataset-sample\\test\", transform=transform)\n",
    "testloader = DataLoader(testset, batch_size=batch_size, shuffle=True)"
   ]
  },
  {
   "cell_type": "code",
   "execution_count": null,
   "id": "45d01d9f",
   "metadata": {},
   "outputs": [],
   "source": [
    "# Show sample images from test data and their ground truth classes\n",
    "dataiter = iter(testloader)\n",
    "images, labels = next(dataiter)\n",
    "\n",
    "plt.axis('off')\n",
    "plt.imshow(make_grid(images).permute(1,2,0))\n",
    "print(\"Actual Classes: \" + ' '.join(f'{labels[j]}' for j in range(len(labels))))"
   ]
  },
  {
   "cell_type": "code",
   "execution_count": null,
   "id": "920b9418",
   "metadata": {},
   "outputs": [],
   "source": [
    "correct_predictions = 0\n",
    "total_predictions = 0\n",
    "\n",
    "print(\"Model predictions on test dataset:\")\n",
    "\n",
    "with torch.no_grad(): # Without updating gradients\n",
    "    for data in testloader:\n",
    "        images, labels = data\n",
    "        outputs = model(images) # Pass input through model.forward()\n",
    "        \n",
    "        # Choose class with the highest probability as the prediction for that image\n",
    "        _, predicted = torch.max(input = outputs.data, dim = 1)\n",
    "        \n",
    "        for index in range(predicted.size(dim=0)):\n",
    "            print(f\"Predictions: {outputs[index]}\")\n",
    "            print(f\"Actual Class: {labels[index]}   Predicted Class: {predicted[index]}\\n\")\n",
    "        \n",
    "        total_predictions += labels.size(0)\n",
    "        correct_predictions += (predicted == labels).sum().item()\n",
    "\n",
    "print(f'Model accuracy on {total_predictions} test images: {100 * correct_predictions // total_predictions}%')"
   ]
  }
 ],
 "metadata": {
  "kernelspec": {
   "display_name": "Python 3 (ipykernel)",
   "language": "python",
   "name": "python3"
  },
  "language_info": {
   "codemirror_mode": {
    "name": "ipython",
    "version": 3
   },
   "file_extension": ".py",
   "mimetype": "text/x-python",
   "name": "python",
   "nbconvert_exporter": "python",
   "pygments_lexer": "ipython3",
   "version": "3.10.9"
  }
 },
 "nbformat": 4,
 "nbformat_minor": 5
}
