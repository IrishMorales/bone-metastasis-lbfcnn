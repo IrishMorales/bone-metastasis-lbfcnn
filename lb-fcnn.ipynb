{
 "cells": [
  {
   "cell_type": "markdown",
   "metadata": {},
   "source": [
    "# Bone Metastasis Classification using Lightweight LB-FCNN"
   ]
  },
  {
   "cell_type": "markdown",
   "metadata": {},
   "source": [
    "### Import Libraries"
   ]
  },
  {
   "cell_type": "code",
   "execution_count": 1,
   "metadata": {
    "vscode": {
     "languageId": "plaintext"
    }
   },
   "outputs": [
    {
     "name": "stderr",
     "output_type": "stream",
     "text": [
      "C:\\Users\\Irish\\anaconda3\\envs\\conv_env\\lib\\site-packages\\torchvision\\io\\image.py:13: UserWarning: Failed to load image Python extension: [WinError 127] The specified procedure could not be found\n",
      "  warn(f\"Failed to load image Python extension: {e}\")\n"
     ]
    }
   ],
   "source": [
    "import os\n",
    "import numpy as np\n",
    "import pandas as pd\n",
    "from PIL import Image\n",
    "from io import StringIO\n",
    "from matplotlib import pyplot as plt\n",
    "import torch\n",
    "import torch.nn as nn\n",
    "import torch.nn.functional as F\n",
    "import torch.optim as optim\n",
    "from torchvision import datasets, transforms, models\n",
    "from torchvision.utils import make_grid\n",
    "from torch.utils.data import Dataset, DataLoader\n",
    "from torch.utils.data.sampler import SubsetRandomSampler\n",
    "from sklearn.model_selection import KFold\n",
    "from sklearn.metrics import accuracy_score, precision_score, recall_score, f1_score\n",
    "from torchstat import stat"
   ]
  },
  {
   "cell_type": "markdown",
   "metadata": {},
   "source": [
    "### Define Variables & Helper Functions"
   ]
  },
  {
   "cell_type": "code",
   "execution_count": 2,
   "metadata": {},
   "outputs": [
    {
     "data": {
      "text/plain": [
       "<torch._C.Generator at 0x24b87501c90>"
      ]
     },
     "execution_count": 2,
     "metadata": {},
     "output_type": "execute_result"
    }
   ],
   "source": [
    "# Set seed for random number generation to create reproducible results\n",
    "random_seed = 5\n",
    "torch.manual_seed(random_seed)"
   ]
  },
  {
   "cell_type": "code",
   "execution_count": 3,
   "metadata": {},
   "outputs": [],
   "source": [
    "# Transformations to apply to inputs\n",
    "preprocess = transforms.Compose([\n",
    "    # Convert PIL Image to tensor and scale to [0, 1] through max normalization\n",
    "    # (i.e. for every pixel in image, new_pixel_value = pixel/255)\n",
    "    transforms.ToTensor()\n",
    "])"
   ]
  },
  {
   "cell_type": "code",
   "execution_count": 4,
   "metadata": {},
   "outputs": [],
   "source": [
    "# Helper function to get ground truth class of an image\n",
    "def get_img_labels(img_dir):\n",
    "    labels = ''\n",
    "    \n",
    "    for filename in os.listdir(img_dir):\n",
    "        # If image has no metastasis\n",
    "        if (filename[5] == '0'):\n",
    "            labels += filename + \",0\\n\"\n",
    "            \n",
    "        # If image has metastasis\n",
    "        else:\n",
    "            labels += filename + \",1\\n\"\n",
    "        \n",
    "    return labels"
   ]
  },
  {
   "cell_type": "markdown",
   "metadata": {},
   "source": [
    "### Load Data"
   ]
  },
  {
   "cell_type": "code",
   "execution_count": 5,
   "metadata": {},
   "outputs": [],
   "source": [
    "data_dir = r\"dataset-sample-flat\""
   ]
  },
  {
   "cell_type": "code",
   "execution_count": 6,
   "metadata": {},
   "outputs": [],
   "source": [
    "# Image dataset\n",
    "class CustomDataset(Dataset):\n",
    "    def __init__(self, img_dir, transform):\n",
    "        self.img_dir = img_dir\n",
    "        self.img_labels = pd.read_csv(StringIO(get_img_labels(img_dir)), sep=\",\", header=None)\n",
    "        self.transform = transform\n",
    "\n",
    "    def __len__(self):\n",
    "        return len(self.img_labels)\n",
    "\n",
    "    def __getitem__(self, idx):\n",
    "        # Generate image filepath\n",
    "        filename = self.img_labels.iloc[idx, 0]\n",
    "        img_path = self.img_dir + \"/\" + filename\n",
    "        \n",
    "        # Read and transform image\n",
    "        image = Image.open(img_path).convert(\"RGB\")\n",
    "        image = self.transform(image)\n",
    "        \n",
    "        # Determine ground truth class (metastasis or no metastasis)\n",
    "        label = self.img_labels.iloc[idx, 1]\n",
    "        return image, label"
   ]
  },
  {
   "cell_type": "code",
   "execution_count": 7,
   "metadata": {},
   "outputs": [],
   "source": [
    "# Dataset and dataloader for training data\n",
    "dataset = CustomDataset(img_dir=data_dir, transform=preprocess)"
   ]
  },
  {
   "cell_type": "markdown",
   "metadata": {},
   "source": [
    "### Define Model"
   ]
  },
  {
   "cell_type": "code",
   "execution_count": 8,
   "metadata": {},
   "outputs": [],
   "source": [
    "channels = 3\n",
    "\n",
    "# Create model with CNN and MLP for classification\n",
    "class LBFCNN_light(nn.Module):\n",
    "    # Define layers\n",
    "    def __init__(self):\n",
    "        super().__init__()\n",
    "        self.pointwise_conv = nn.Conv2d(in_channels = channels, out_channels = 1, \n",
    "                                        kernel_size = 1, bias = False, padding = 0)\n",
    "        self.depthwise_conv = nn.Conv2d(in_channels = channels, out_channels = channels, \n",
    "                                        kernel_size = 3, bias = False, groups = channels)\n",
    "        self.depthwise_separable_conv = nn.Sequential(self.depthwise_conv, self.pointwise_conv)\n",
    "        self.norm = nn.BatchNorm2d(num_features = 1)\n",
    "        self.pool = nn.MaxPool2d(kernel_size = 2)\n",
    "        self.fc1 = nn.Linear(in_features = channels * 158 * 52, out_features = 200) # TODO: Change in_features here\n",
    "        self.fc2 = nn.Linear(in_features = 200, out_features = 100)\n",
    "        self.fc3 = nn.Linear(in_features = 100, out_features = 2)\n",
    "    \n",
    "    def lbfcnn_block(self, x):\n",
    "        # Multi-scale Depthwise Separable Convolution Module\n",
    "        mdscm_x = self.pointwise_conv(x)\n",
    "        print(f\"LBFCNN MDSCM Size after Pointwise Conv: {mdscm_x.size()}\")\n",
    "        mdscm_x = self.norm(mdscm_x)\n",
    "        print(f\"LBFCNN MDSCM Size after Norm: {mdscm_x.size()}\")\n",
    "        mdscm_x = self.depthwise_separable_conv(mdscm_x)\n",
    "        print(f\"LBFCNN MDSCM Size after DSC: {mdscm_x.size()}\")\n",
    "        mdscm_x = self.norm(mdscm_x)\n",
    "        print(f\"LBFCNN MDSCM Size after Norm: {mdscm_x.size()}\")\n",
    "        mdscm_x = self.norm(mdscm_x)\n",
    "        print(f\"LBFCNN MDSCM Size after Norm: {mdscm_x.size()}\")\n",
    "        mdscm_x = self.pointwise_conv(mdscm_x)\n",
    "        print(f\"LBFCNN MDSCM Size after Pointwise Conv: {mdscm_x.size()}\")\n",
    "        \n",
    "        # Residual Connection block\n",
    "        residual_x = self.pointwise_conv(x)\n",
    "        print(f\"LBFCNN Residual Size after Pointwise Conv: {residual_x.size()}\")\n",
    "        residual_x = self.norm(residual_x)\n",
    "        print(f\"LBFCNN Residual Size after Norm: {residual_x.size()}\")\n",
    "        \n",
    "        x = torch.concat((mdscm_x, residual_x))\n",
    "        print(f\"LBFCNN Size after Concat: {x.size()}\")\n",
    "        x = self.pointwise_conv(x)\n",
    "        print(f\"LBFCNN Size after Pointwise Conv: {x.size()}\")\n",
    "        x = self.norm(x)\n",
    "        print(f\"LBFCNN Size after Norm: {x.size()}\")\n",
    "        return x\n",
    "\n",
    "    # Apply layers\n",
    "    def forward(self, x):\n",
    "        # Convolution layers\n",
    "        print(f\"Input size: {x.size()}\")\n",
    "        x = self.lbfcnn_block(x)\n",
    "        print(f\"Size after LBFCNN1: {x.size()}\")\n",
    "        x = self.pool(x)\n",
    "        print(f\"Size after pooling1: {x.size()}\")\n",
    "        x = self.lbfcnn_block(x)\n",
    "        print(f\"Size after LBFCNN2: {x.size()}\")\n",
    "        x = self.pool(x)\n",
    "        print(f\"Size after pooling2: {x.size()}\")\n",
    "        x = self.lbfcnn_block(x)\n",
    "        print(f\"Size after LBFCNN3: {x.size()}\")\n",
    "        x = self.pool(x)\n",
    "        print(f\"Size after pooling3: {x.size()}\")\n",
    "        \n",
    "        # Flatten all dimensions except batch\n",
    "        x = torch.flatten(input = x, start_dim = 1)\n",
    "        print(f\"Size after flatten: {x.size()}\")\n",
    "        \n",
    "        # Classification layers\n",
    "        x = F.relu(self.fc1(x))\n",
    "        print(f\"Size after dense+relu1: {x.size()}\")\n",
    "        x = F.relu(self.fc2(x))\n",
    "        print(f\"Size after dense+relu2: {x.size()}\")\n",
    "        x = F.softmax(input = self.fc3(x), dim = 1)\n",
    "        print(f\"Size after dense+softmax: {x.size()}\")\n",
    "        return x"
   ]
  },
  {
   "cell_type": "code",
   "execution_count": 9,
   "metadata": {},
   "outputs": [
    {
     "name": "stdout",
     "output_type": "stream",
     "text": [
      "Performing torch operations on cpu device\n"
     ]
    }
   ],
   "source": [
    "# Allocate tensors to the device used for computation\n",
    "device = \"cuda\" if torch.cuda.is_available() else \"cpu\"\n",
    "print(f\"Performing torch operations on {device} device\")"
   ]
  },
  {
   "cell_type": "markdown",
   "metadata": {},
   "source": [
    "### Test Stuff"
   ]
  },
  {
   "cell_type": "code",
   "execution_count": null,
   "metadata": {},
   "outputs": [],
   "source": [
    "channels = 3\n",
    "class AseGicoCarlo(nn.Module):\n",
    "    def __init__(self, in_channels, out_channels):\n",
    "        self.pointwise = nn.Conv2d(in_channels = channels, out_channels = 1, kernel_size = 1)\n",
    "        # other stuff here\n",
    "    def forward(self, x):\n",
    "        return self.pointwise(x)\n",
    "\n",
    "# test it out\n",
    "model = AseGicoCarlo(3, 3)\n",
    "tensors = # randomize tensors with expected shape\n",
    "print(model.forward(tensors)) # it should not fail here"
   ]
  },
  {
   "cell_type": "markdown",
   "metadata": {},
   "source": [
    "### Train Model"
   ]
  },
  {
   "cell_type": "code",
   "execution_count": 10,
   "metadata": {},
   "outputs": [],
   "source": [
    "# Model hyperparameters; epochs & batch size from Magboo & Abu\n",
    "k_folds = 2 # TODO: Change to 10\n",
    "epochs = 2 # TODO: Change to 100\n",
    "batch_size = 16"
   ]
  },
  {
   "cell_type": "code",
   "execution_count": 11,
   "metadata": {},
   "outputs": [],
   "source": [
    "# Evaluation metrics\n",
    "results_accuracy = []\n",
    "results_precision = []\n",
    "results_sensitivity = []\n",
    "results_specificity = []\n",
    "results_f1 = []\n",
    "losses = []"
   ]
  },
  {
   "cell_type": "code",
   "execution_count": 12,
   "metadata": {},
   "outputs": [],
   "source": [
    "# Define the K-fold Cross Validator\n",
    "kfold = KFold(n_splits=k_folds, shuffle=True, random_state=random_seed)"
   ]
  },
  {
   "cell_type": "code",
   "execution_count": 13,
   "metadata": {},
   "outputs": [
    {
     "name": "stdout",
     "output_type": "stream",
     "text": [
      "--------------------------------------------------\n",
      "FOLD 0/2: Training\n",
      "--------------------------------------------------\n",
      "Input size: torch.Size([16, 3, 646, 220])\n",
      "LBFCNN MDSCM Size after Pointwise Conv: torch.Size([16, 1, 646, 220])\n",
      "LBFCNN MDSCM Size after Norm: torch.Size([16, 1, 646, 220])\n"
     ]
    },
    {
     "ename": "RuntimeError",
     "evalue": "Given groups=3, weight of size [3, 1, 3, 3], expected input[16, 1, 646, 220] to have 3 channels, but got 1 channels instead",
     "output_type": "error",
     "traceback": [
      "\u001b[1;31m---------------------------------------------------------------------------\u001b[0m",
      "\u001b[1;31mRuntimeError\u001b[0m                              Traceback (most recent call last)",
      "Cell \u001b[1;32mIn[13], line 39\u001b[0m\n\u001b[0;32m     36\u001b[0m images, labels \u001b[38;5;241m=\u001b[39m batch_data\n\u001b[0;32m     38\u001b[0m \u001b[38;5;66;03m# Forward pass\u001b[39;00m\n\u001b[1;32m---> 39\u001b[0m predictions \u001b[38;5;241m=\u001b[39m \u001b[43mmodel\u001b[49m\u001b[43m(\u001b[49m\u001b[43mimages\u001b[49m\u001b[43m)\u001b[49m \u001b[38;5;66;03m# Pass input through model.forward()\u001b[39;00m\n\u001b[0;32m     40\u001b[0m loss \u001b[38;5;241m=\u001b[39m criterion(predictions, labels) \u001b[38;5;66;03m# Compute loss against ground truth labels\u001b[39;00m\n\u001b[0;32m     42\u001b[0m \u001b[38;5;66;03m# Backpropagation\u001b[39;00m\n",
      "File \u001b[1;32m~\\anaconda3\\envs\\conv_env\\lib\\site-packages\\torch\\nn\\modules\\module.py:1194\u001b[0m, in \u001b[0;36mModule._call_impl\u001b[1;34m(self, *input, **kwargs)\u001b[0m\n\u001b[0;32m   1190\u001b[0m \u001b[38;5;66;03m# If we don't have any hooks, we want to skip the rest of the logic in\u001b[39;00m\n\u001b[0;32m   1191\u001b[0m \u001b[38;5;66;03m# this function, and just call forward.\u001b[39;00m\n\u001b[0;32m   1192\u001b[0m \u001b[38;5;28;01mif\u001b[39;00m \u001b[38;5;129;01mnot\u001b[39;00m (\u001b[38;5;28mself\u001b[39m\u001b[38;5;241m.\u001b[39m_backward_hooks \u001b[38;5;129;01mor\u001b[39;00m \u001b[38;5;28mself\u001b[39m\u001b[38;5;241m.\u001b[39m_forward_hooks \u001b[38;5;129;01mor\u001b[39;00m \u001b[38;5;28mself\u001b[39m\u001b[38;5;241m.\u001b[39m_forward_pre_hooks \u001b[38;5;129;01mor\u001b[39;00m _global_backward_hooks\n\u001b[0;32m   1193\u001b[0m         \u001b[38;5;129;01mor\u001b[39;00m _global_forward_hooks \u001b[38;5;129;01mor\u001b[39;00m _global_forward_pre_hooks):\n\u001b[1;32m-> 1194\u001b[0m     \u001b[38;5;28;01mreturn\u001b[39;00m forward_call(\u001b[38;5;241m*\u001b[39m\u001b[38;5;28minput\u001b[39m, \u001b[38;5;241m*\u001b[39m\u001b[38;5;241m*\u001b[39mkwargs)\n\u001b[0;32m   1195\u001b[0m \u001b[38;5;66;03m# Do not call functions when jit is used\u001b[39;00m\n\u001b[0;32m   1196\u001b[0m full_backward_hooks, non_full_backward_hooks \u001b[38;5;241m=\u001b[39m [], []\n",
      "Cell \u001b[1;32mIn[8], line 52\u001b[0m, in \u001b[0;36mLBFCNN_light.forward\u001b[1;34m(self, x)\u001b[0m\n\u001b[0;32m     49\u001b[0m \u001b[38;5;28;01mdef\u001b[39;00m \u001b[38;5;21mforward\u001b[39m(\u001b[38;5;28mself\u001b[39m, x):\n\u001b[0;32m     50\u001b[0m     \u001b[38;5;66;03m# Convolution layers\u001b[39;00m\n\u001b[0;32m     51\u001b[0m     \u001b[38;5;28mprint\u001b[39m(\u001b[38;5;124mf\u001b[39m\u001b[38;5;124m\"\u001b[39m\u001b[38;5;124mInput size: \u001b[39m\u001b[38;5;132;01m{\u001b[39;00mx\u001b[38;5;241m.\u001b[39msize()\u001b[38;5;132;01m}\u001b[39;00m\u001b[38;5;124m\"\u001b[39m)\n\u001b[1;32m---> 52\u001b[0m     x \u001b[38;5;241m=\u001b[39m \u001b[38;5;28;43mself\u001b[39;49m\u001b[38;5;241;43m.\u001b[39;49m\u001b[43mlbfcnn_block\u001b[49m\u001b[43m(\u001b[49m\u001b[43mx\u001b[49m\u001b[43m)\u001b[49m\n\u001b[0;32m     53\u001b[0m     \u001b[38;5;28mprint\u001b[39m(\u001b[38;5;124mf\u001b[39m\u001b[38;5;124m\"\u001b[39m\u001b[38;5;124mSize after LBFCNN1: \u001b[39m\u001b[38;5;132;01m{\u001b[39;00mx\u001b[38;5;241m.\u001b[39msize()\u001b[38;5;132;01m}\u001b[39;00m\u001b[38;5;124m\"\u001b[39m)\n\u001b[0;32m     54\u001b[0m     x \u001b[38;5;241m=\u001b[39m \u001b[38;5;28mself\u001b[39m\u001b[38;5;241m.\u001b[39mpool(x)\n",
      "Cell \u001b[1;32mIn[8], line 25\u001b[0m, in \u001b[0;36mLBFCNN_light.lbfcnn_block\u001b[1;34m(self, x)\u001b[0m\n\u001b[0;32m     23\u001b[0m mdscm_x \u001b[38;5;241m=\u001b[39m \u001b[38;5;28mself\u001b[39m\u001b[38;5;241m.\u001b[39mnorm(mdscm_x)\n\u001b[0;32m     24\u001b[0m \u001b[38;5;28mprint\u001b[39m(\u001b[38;5;124mf\u001b[39m\u001b[38;5;124m\"\u001b[39m\u001b[38;5;124mLBFCNN MDSCM Size after Norm: \u001b[39m\u001b[38;5;132;01m{\u001b[39;00mmdscm_x\u001b[38;5;241m.\u001b[39msize()\u001b[38;5;132;01m}\u001b[39;00m\u001b[38;5;124m\"\u001b[39m)\n\u001b[1;32m---> 25\u001b[0m mdscm_x \u001b[38;5;241m=\u001b[39m \u001b[38;5;28;43mself\u001b[39;49m\u001b[38;5;241;43m.\u001b[39;49m\u001b[43mdepthwise_separable_conv\u001b[49m\u001b[43m(\u001b[49m\u001b[43mmdscm_x\u001b[49m\u001b[43m)\u001b[49m\n\u001b[0;32m     26\u001b[0m \u001b[38;5;28mprint\u001b[39m(\u001b[38;5;124mf\u001b[39m\u001b[38;5;124m\"\u001b[39m\u001b[38;5;124mLBFCNN MDSCM Size after DSC: \u001b[39m\u001b[38;5;132;01m{\u001b[39;00mmdscm_x\u001b[38;5;241m.\u001b[39msize()\u001b[38;5;132;01m}\u001b[39;00m\u001b[38;5;124m\"\u001b[39m)\n\u001b[0;32m     27\u001b[0m mdscm_x \u001b[38;5;241m=\u001b[39m \u001b[38;5;28mself\u001b[39m\u001b[38;5;241m.\u001b[39mnorm(mdscm_x)\n",
      "File \u001b[1;32m~\\anaconda3\\envs\\conv_env\\lib\\site-packages\\torch\\nn\\modules\\module.py:1194\u001b[0m, in \u001b[0;36mModule._call_impl\u001b[1;34m(self, *input, **kwargs)\u001b[0m\n\u001b[0;32m   1190\u001b[0m \u001b[38;5;66;03m# If we don't have any hooks, we want to skip the rest of the logic in\u001b[39;00m\n\u001b[0;32m   1191\u001b[0m \u001b[38;5;66;03m# this function, and just call forward.\u001b[39;00m\n\u001b[0;32m   1192\u001b[0m \u001b[38;5;28;01mif\u001b[39;00m \u001b[38;5;129;01mnot\u001b[39;00m (\u001b[38;5;28mself\u001b[39m\u001b[38;5;241m.\u001b[39m_backward_hooks \u001b[38;5;129;01mor\u001b[39;00m \u001b[38;5;28mself\u001b[39m\u001b[38;5;241m.\u001b[39m_forward_hooks \u001b[38;5;129;01mor\u001b[39;00m \u001b[38;5;28mself\u001b[39m\u001b[38;5;241m.\u001b[39m_forward_pre_hooks \u001b[38;5;129;01mor\u001b[39;00m _global_backward_hooks\n\u001b[0;32m   1193\u001b[0m         \u001b[38;5;129;01mor\u001b[39;00m _global_forward_hooks \u001b[38;5;129;01mor\u001b[39;00m _global_forward_pre_hooks):\n\u001b[1;32m-> 1194\u001b[0m     \u001b[38;5;28;01mreturn\u001b[39;00m forward_call(\u001b[38;5;241m*\u001b[39m\u001b[38;5;28minput\u001b[39m, \u001b[38;5;241m*\u001b[39m\u001b[38;5;241m*\u001b[39mkwargs)\n\u001b[0;32m   1195\u001b[0m \u001b[38;5;66;03m# Do not call functions when jit is used\u001b[39;00m\n\u001b[0;32m   1196\u001b[0m full_backward_hooks, non_full_backward_hooks \u001b[38;5;241m=\u001b[39m [], []\n",
      "File \u001b[1;32m~\\anaconda3\\envs\\conv_env\\lib\\site-packages\\torch\\nn\\modules\\container.py:204\u001b[0m, in \u001b[0;36mSequential.forward\u001b[1;34m(self, input)\u001b[0m\n\u001b[0;32m    202\u001b[0m \u001b[38;5;28;01mdef\u001b[39;00m \u001b[38;5;21mforward\u001b[39m(\u001b[38;5;28mself\u001b[39m, \u001b[38;5;28minput\u001b[39m):\n\u001b[0;32m    203\u001b[0m     \u001b[38;5;28;01mfor\u001b[39;00m module \u001b[38;5;129;01min\u001b[39;00m \u001b[38;5;28mself\u001b[39m:\n\u001b[1;32m--> 204\u001b[0m         \u001b[38;5;28minput\u001b[39m \u001b[38;5;241m=\u001b[39m \u001b[43mmodule\u001b[49m\u001b[43m(\u001b[49m\u001b[38;5;28;43minput\u001b[39;49m\u001b[43m)\u001b[49m\n\u001b[0;32m    205\u001b[0m     \u001b[38;5;28;01mreturn\u001b[39;00m \u001b[38;5;28minput\u001b[39m\n",
      "File \u001b[1;32m~\\anaconda3\\envs\\conv_env\\lib\\site-packages\\torch\\nn\\modules\\module.py:1194\u001b[0m, in \u001b[0;36mModule._call_impl\u001b[1;34m(self, *input, **kwargs)\u001b[0m\n\u001b[0;32m   1190\u001b[0m \u001b[38;5;66;03m# If we don't have any hooks, we want to skip the rest of the logic in\u001b[39;00m\n\u001b[0;32m   1191\u001b[0m \u001b[38;5;66;03m# this function, and just call forward.\u001b[39;00m\n\u001b[0;32m   1192\u001b[0m \u001b[38;5;28;01mif\u001b[39;00m \u001b[38;5;129;01mnot\u001b[39;00m (\u001b[38;5;28mself\u001b[39m\u001b[38;5;241m.\u001b[39m_backward_hooks \u001b[38;5;129;01mor\u001b[39;00m \u001b[38;5;28mself\u001b[39m\u001b[38;5;241m.\u001b[39m_forward_hooks \u001b[38;5;129;01mor\u001b[39;00m \u001b[38;5;28mself\u001b[39m\u001b[38;5;241m.\u001b[39m_forward_pre_hooks \u001b[38;5;129;01mor\u001b[39;00m _global_backward_hooks\n\u001b[0;32m   1193\u001b[0m         \u001b[38;5;129;01mor\u001b[39;00m _global_forward_hooks \u001b[38;5;129;01mor\u001b[39;00m _global_forward_pre_hooks):\n\u001b[1;32m-> 1194\u001b[0m     \u001b[38;5;28;01mreturn\u001b[39;00m forward_call(\u001b[38;5;241m*\u001b[39m\u001b[38;5;28minput\u001b[39m, \u001b[38;5;241m*\u001b[39m\u001b[38;5;241m*\u001b[39mkwargs)\n\u001b[0;32m   1195\u001b[0m \u001b[38;5;66;03m# Do not call functions when jit is used\u001b[39;00m\n\u001b[0;32m   1196\u001b[0m full_backward_hooks, non_full_backward_hooks \u001b[38;5;241m=\u001b[39m [], []\n",
      "File \u001b[1;32m~\\anaconda3\\envs\\conv_env\\lib\\site-packages\\torch\\nn\\modules\\conv.py:463\u001b[0m, in \u001b[0;36mConv2d.forward\u001b[1;34m(self, input)\u001b[0m\n\u001b[0;32m    462\u001b[0m \u001b[38;5;28;01mdef\u001b[39;00m \u001b[38;5;21mforward\u001b[39m(\u001b[38;5;28mself\u001b[39m, \u001b[38;5;28minput\u001b[39m: Tensor) \u001b[38;5;241m-\u001b[39m\u001b[38;5;241m>\u001b[39m Tensor:\n\u001b[1;32m--> 463\u001b[0m     \u001b[38;5;28;01mreturn\u001b[39;00m \u001b[38;5;28;43mself\u001b[39;49m\u001b[38;5;241;43m.\u001b[39;49m\u001b[43m_conv_forward\u001b[49m\u001b[43m(\u001b[49m\u001b[38;5;28;43minput\u001b[39;49m\u001b[43m,\u001b[49m\u001b[43m \u001b[49m\u001b[38;5;28;43mself\u001b[39;49m\u001b[38;5;241;43m.\u001b[39;49m\u001b[43mweight\u001b[49m\u001b[43m,\u001b[49m\u001b[43m \u001b[49m\u001b[38;5;28;43mself\u001b[39;49m\u001b[38;5;241;43m.\u001b[39;49m\u001b[43mbias\u001b[49m\u001b[43m)\u001b[49m\n",
      "File \u001b[1;32m~\\anaconda3\\envs\\conv_env\\lib\\site-packages\\torch\\nn\\modules\\conv.py:459\u001b[0m, in \u001b[0;36mConv2d._conv_forward\u001b[1;34m(self, input, weight, bias)\u001b[0m\n\u001b[0;32m    455\u001b[0m \u001b[38;5;28;01mif\u001b[39;00m \u001b[38;5;28mself\u001b[39m\u001b[38;5;241m.\u001b[39mpadding_mode \u001b[38;5;241m!=\u001b[39m \u001b[38;5;124m'\u001b[39m\u001b[38;5;124mzeros\u001b[39m\u001b[38;5;124m'\u001b[39m:\n\u001b[0;32m    456\u001b[0m     \u001b[38;5;28;01mreturn\u001b[39;00m F\u001b[38;5;241m.\u001b[39mconv2d(F\u001b[38;5;241m.\u001b[39mpad(\u001b[38;5;28minput\u001b[39m, \u001b[38;5;28mself\u001b[39m\u001b[38;5;241m.\u001b[39m_reversed_padding_repeated_twice, mode\u001b[38;5;241m=\u001b[39m\u001b[38;5;28mself\u001b[39m\u001b[38;5;241m.\u001b[39mpadding_mode),\n\u001b[0;32m    457\u001b[0m                     weight, bias, \u001b[38;5;28mself\u001b[39m\u001b[38;5;241m.\u001b[39mstride,\n\u001b[0;32m    458\u001b[0m                     _pair(\u001b[38;5;241m0\u001b[39m), \u001b[38;5;28mself\u001b[39m\u001b[38;5;241m.\u001b[39mdilation, \u001b[38;5;28mself\u001b[39m\u001b[38;5;241m.\u001b[39mgroups)\n\u001b[1;32m--> 459\u001b[0m \u001b[38;5;28;01mreturn\u001b[39;00m \u001b[43mF\u001b[49m\u001b[38;5;241;43m.\u001b[39;49m\u001b[43mconv2d\u001b[49m\u001b[43m(\u001b[49m\u001b[38;5;28;43minput\u001b[39;49m\u001b[43m,\u001b[49m\u001b[43m \u001b[49m\u001b[43mweight\u001b[49m\u001b[43m,\u001b[49m\u001b[43m \u001b[49m\u001b[43mbias\u001b[49m\u001b[43m,\u001b[49m\u001b[43m \u001b[49m\u001b[38;5;28;43mself\u001b[39;49m\u001b[38;5;241;43m.\u001b[39;49m\u001b[43mstride\u001b[49m\u001b[43m,\u001b[49m\n\u001b[0;32m    460\u001b[0m \u001b[43m                \u001b[49m\u001b[38;5;28;43mself\u001b[39;49m\u001b[38;5;241;43m.\u001b[39;49m\u001b[43mpadding\u001b[49m\u001b[43m,\u001b[49m\u001b[43m \u001b[49m\u001b[38;5;28;43mself\u001b[39;49m\u001b[38;5;241;43m.\u001b[39;49m\u001b[43mdilation\u001b[49m\u001b[43m,\u001b[49m\u001b[43m \u001b[49m\u001b[38;5;28;43mself\u001b[39;49m\u001b[38;5;241;43m.\u001b[39;49m\u001b[43mgroups\u001b[49m\u001b[43m)\u001b[49m\n",
      "\u001b[1;31mRuntimeError\u001b[0m: Given groups=3, weight of size [3, 1, 3, 3], expected input[16, 1, 646, 220] to have 3 channels, but got 1 channels instead"
     ]
    }
   ],
   "source": [
    "# Train model for k folds, with e epochs each\n",
    "for fold, (train_indices, test_indices) in enumerate(kfold.split(dataset)):\n",
    "    print('-' * 50)\n",
    "    print(f'FOLD {fold}/{k_folds}: Training')\n",
    "    print('-' * 50)\n",
    "    \n",
    "    # Sample elements randomly from selected train/test indices\n",
    "    train_subsampler = torch.utils.data.SubsetRandomSampler(train_indices)\n",
    "    test_subsampler = torch.utils.data.SubsetRandomSampler(test_indices)\n",
    "    \n",
    "    # Get DataLoaders for training and test sets\n",
    "    trainloader = torch.utils.data.DataLoader(dataset, \n",
    "                                              batch_size=batch_size, \n",
    "                                              sampler=train_subsampler)\n",
    "    \n",
    "    testloader = torch.utils.data.DataLoader(dataset,\n",
    "                                             batch_size=batch_size, \n",
    "                                             sampler=test_subsampler)\n",
    "    \n",
    "    losses.append([])\n",
    "    \n",
    "    # Instantiate model\n",
    "    model = LBFCNN_light().to(device)\n",
    "    \n",
    "    # Define criterion (function used to compute loss) and optimizer for model\n",
    "    criterion = nn.CrossEntropyLoss().to(device)\n",
    "    optimizer = optim.Adam(model.parameters(), lr=0.0001)\n",
    "    \n",
    "    # Train for e epochs\n",
    "    for epoch in range(epochs):\n",
    "        running_loss = 0\n",
    "        total_batch_count = 0\n",
    "        \n",
    "        for batch_index, batch_data in enumerate(trainloader):\n",
    "            # Get the inputs; data is a list of [images, labels]\n",
    "            images, labels = batch_data\n",
    "\n",
    "            # Forward pass\n",
    "            predictions = model(images) # Pass input through model.forward()\n",
    "            loss = criterion(predictions, labels) # Compute loss against ground truth labels\n",
    "\n",
    "            # Backpropagation\n",
    "            optimizer.zero_grad() # Reset gradients from previous passes\n",
    "            loss.backward() # Compute gradients using derivative of loss\n",
    "            optimizer.step() # Update values using gradients\n",
    "\n",
    "            running_loss += loss.item() # Add batch loss to current epoch loss\n",
    "            total_batch_count += 1 # Increment number of finished batches\n",
    "\n",
    "        running_loss = running_loss / total_batch_count\n",
    "        losses[fold].append(running_loss)\n",
    "        print(f\"Epoch {epoch}/{epochs-1} Loss: {running_loss}\")\n",
    "\n",
    "    print('-' * 50)\n",
    "    print(f'FOLD {fold}/{k_folds}: Test Results')\n",
    "    print('-' * 50)\n",
    "\n",
    "    # Evaluation for this fold\n",
    "    true_pos = 0\n",
    "    true_neg = 0\n",
    "    false_pos = 0\n",
    "    false_neg = 0\n",
    "    total = 0\n",
    "    \n",
    "    with torch.no_grad():\n",
    "        for batch_index, batch_data in enumerate(testloader):\n",
    "            # Get the inputs; data is a list of [images, labels]\n",
    "            images, labels = batch_data\n",
    "\n",
    "            # Forward pass\n",
    "            predictions = model(images)\n",
    "\n",
    "            # Set total and correct\n",
    "            _, predicted = torch.max(input=predictions, dim=1) # Get list of predicted classes\n",
    "            \n",
    "            # Get how many classes there were in this batch\n",
    "            total += labels.size(0)\n",
    "            \n",
    "            # Get true positive, true negative, false positive, and false negative counts\n",
    "            for index in range(len(labels)):\n",
    "                true_pos = true_pos+1 if (predicted[index] == 1 and labels[index] == 1) else true_pos\n",
    "                true_neg = true_neg+1 if (predicted[index] == 0 and labels[index] == 0) else true_neg\n",
    "                false_pos = false_pos+1 if (predicted[index] == 1 and labels[index] == 0) else false_pos\n",
    "                false_neg = false_neg+1 if (predicted[index] == 0 and labels[index] == 1) else false_neg\n",
    "    \n",
    "    print(f\"TP: {true_pos}, TN: {true_neg}, FP: {false_pos}, FN: {false_neg}, total: {total}\")\n",
    "    \n",
    "    # Get evaluation metrics\n",
    "    # accuracy: (tp + tn) / (p + n)\n",
    "    accuracy = (true_pos + true_neg)/total if total != 0 else 0\n",
    "    print(f\"Accuracy: {accuracy}\")\n",
    "    results_accuracy.append(accuracy)\n",
    "    \n",
    "    # precision tp / (tp + fp)\n",
    "    precision = true_pos/(true_pos + false_pos) if (true_pos + false_pos) != 0 else 0\n",
    "    print(f\"Precision: {precision}\")\n",
    "    results_precision.append(precision)\n",
    "    \n",
    "    # sensitivity: tp / (tp + fn)\n",
    "    sensitivity = true_pos/(true_pos + false_neg) if (true_pos + false_neg) != 0 else 0\n",
    "    print(f\"Sensitivity: {sensitivity}\")\n",
    "    results_sensitivity.append(sensitivity)\n",
    "    \n",
    "    # specificity: tn / (tn + fp)\n",
    "    specificity = true_neg/(true_neg + false_pos) if (true_neg + false_pos) != 0 else 0\n",
    "    print(f\"Specificity: {specificity}\")\n",
    "    results_specificity.append(specificity)\n",
    "    \n",
    "    # f1: 2(precision * recall)/(precision + recall)\n",
    "    f1 = 2 * (precision * sensitivity)/(precision + sensitivity) if (precision + sensitivity) != 0 else 0\n",
    "    print(f\"F1: {f1}\")\n",
    "    results_f1.append(f1)"
   ]
  },
  {
   "cell_type": "markdown",
   "metadata": {},
   "source": [
    "### Save Model"
   ]
  },
  {
   "cell_type": "code",
   "execution_count": null,
   "metadata": {},
   "outputs": [],
   "source": [
    "# Print tensor sizes per layer in model\n",
    "print(\"Model's state_dict:\")\n",
    "for param_tensor in model.state_dict():\n",
    "    print(param_tensor, \"\\t\", model.state_dict()[param_tensor].size())"
   ]
  },
  {
   "cell_type": "code",
   "execution_count": null,
   "metadata": {},
   "outputs": [],
   "source": [
    "# Print optimizer's state_dict\n",
    "print(\"Optimizer's state_dict:\")\n",
    "for var_name in optimizer.state_dict():\n",
    "    print(var_name, \"\\t\", optimizer.state_dict()[var_name])"
   ]
  },
  {
   "cell_type": "code",
   "execution_count": null,
   "metadata": {},
   "outputs": [],
   "source": [
    "torch.save(model.state_dict(), 'weights/lbfcnn_weights.h5')"
   ]
  },
  {
   "cell_type": "markdown",
   "metadata": {},
   "source": [
    "### Evaluate Model"
   ]
  },
  {
   "cell_type": "code",
   "execution_count": null,
   "metadata": {},
   "outputs": [],
   "source": [
    "# Plot losses\n",
    "ax = plt.axes()\n",
    "flat_losses = [item for fold_losses in losses for item in fold_losses]\n",
    "plt.plot(flat_losses, color='red')\n",
    "plt.title('Training Loss Evaluation')\n",
    "ax.set_xticks([x for x in range(epochs)])\n",
    "plt.xlabel('Epoch')\n",
    "plt.ylabel('Magnitude')\n",
    "plt.show()"
   ]
  },
  {
   "cell_type": "code",
   "execution_count": null,
   "metadata": {},
   "outputs": [],
   "source": [
    "# Get performance metrics by calculcating average of metrics across all folds\n",
    "print(\"Final Performance Metrics\")\n",
    "print(f\"Accuracy: {np.mean(results_accuracy)}\")\n",
    "print(f\"Precision: {np.mean(results_precision)}\")\n",
    "print(f\"Sensitivity: {np.mean(results_sensitivity)}\")\n",
    "print(f\"Specificity: {np.mean(results_specificity)}\")\n",
    "print(f\"F1: {np.mean(results_f1)}\")"
   ]
  },
  {
   "cell_type": "code",
   "execution_count": null,
   "metadata": {},
   "outputs": [],
   "source": [
    "# Get computational complexity\n",
    "stat(model, (1, 646, 220))"
   ]
  },
  {
   "cell_type": "markdown",
   "metadata": {},
   "source": [
    "### Show Predictions on Sample Images"
   ]
  },
  {
   "cell_type": "code",
   "execution_count": null,
   "metadata": {},
   "outputs": [],
   "source": [
    "sample_img_names = [\"0000-0-A.tif\", \"0163-0-P.tif\", \"0198-0-A.tif\"]\n",
    "sample_img_paths = [(data_dir + \"/\" + sample_img_names[i]) for i in range(len(sample_img_names))]\n",
    "sample_classes = [sample_img_names[i][5] for i in range(len(sample_img_names))]\n",
    "sample_ground_truths = [\"No Metastasis\" if sample_classes[i] == 0 else \"Metastasis\" for i in range(len(sample_img_names))]\n",
    "sample_imgs = [Image.open(img_path).convert('RGB') for img_path in sample_img_paths]\n",
    "sample_imgs_show = [Image.open(img_path) for img_path in sample_img_paths]"
   ]
  },
  {
   "cell_type": "code",
   "execution_count": null,
   "metadata": {},
   "outputs": [],
   "source": [
    "validation_batch = torch.stack([preprocess(img).to(device) for img in sample_imgs])"
   ]
  },
  {
   "cell_type": "code",
   "execution_count": null,
   "metadata": {},
   "outputs": [],
   "source": [
    "sample_preds= model(validation_batch).data.numpy()\n",
    "sample_preds"
   ]
  },
  {
   "cell_type": "code",
   "execution_count": null,
   "metadata": {},
   "outputs": [],
   "source": [
    "fig, axs = plt.subplots(1, len(sample_imgs_show), figsize=(20, 5))\n",
    "for i, img in enumerate(sample_imgs_show):\n",
    "    ax = axs[i]\n",
    "    ax.axis('off')\n",
    "    ax.set_title(\"Prediction: {:.0f}% No Metastasis, {:.0f}% Metastasis\\n Ground Truth: {}\"\n",
    "                 .format(100*sample_preds[i,0], 100*sample_preds[i,1], sample_ground_truths[i]))\n",
    "    ax.imshow(img)"
   ]
  }
 ],
 "metadata": {
  "kernelspec": {
   "display_name": "Python 3 (ipykernel)",
   "language": "python",
   "name": "python3"
  },
  "language_info": {
   "codemirror_mode": {
    "name": "ipython",
    "version": 3
   },
   "file_extension": ".py",
   "mimetype": "text/x-python",
   "name": "python",
   "nbconvert_exporter": "python",
   "pygments_lexer": "ipython3",
   "version": "3.10.9"
  }
 },
 "nbformat": 4,
 "nbformat_minor": 2
}
